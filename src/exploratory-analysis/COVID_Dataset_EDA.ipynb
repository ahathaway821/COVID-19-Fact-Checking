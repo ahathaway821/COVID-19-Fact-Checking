{
  "nbformat": 4,
  "nbformat_minor": 0,
  "metadata": {
    "colab": {
      "name": "COVID Dataset EDA.ipynb",
      "provenance": [],
      "authorship_tag": "ABX9TyOtpKx5rLa/cZ4cOYrISFlc",
      "include_colab_link": true
    },
    "kernelspec": {
      "name": "python3",
      "display_name": "Python 3"
    }
  },
  "cells": [
    {
      "cell_type": "markdown",
      "metadata": {
        "id": "view-in-github",
        "colab_type": "text"
      },
      "source": [
        "<a href=\"https://colab.research.google.com/github/ahathaway821/COVID-19-Fact-Checking/blob/master/src/exploratory-analysis/COVID_Dataset_EDA.ipynb\" target=\"_parent\"><img src=\"https://colab.research.google.com/assets/colab-badge.svg\" alt=\"Open In Colab\"/></a>"
      ]
    },
    {
      "cell_type": "markdown",
      "metadata": {
        "id": "h80a93O7XTD8",
        "colab_type": "text"
      },
      "source": [
        "# EDA on COVID-19 Poynter Dataset"
      ]
    },
    {
      "cell_type": "code",
      "metadata": {
        "id": "Zq2rRDpYXNmU",
        "colab_type": "code",
        "colab": {}
      },
      "source": [
        "# Load csv\n",
        "import pandas as pd\n",
        "import os\n",
        "import re\n",
        "from wordcloud import WordCloud\n",
        "import numpy as np\n",
        "from sklearn.cluster import MiniBatchKMeans\n",
        "from sklearn.feature_extraction.text import TfidfVectorizer\n",
        "from sklearn.decomposition import PCA\n",
        "import matplotlib.pyplot as plt"
      ],
      "execution_count": 0,
      "outputs": []
    },
    {
      "cell_type": "code",
      "metadata": {
        "id": "hjB9D3K85mhy",
        "colab_type": "code",
        "colab": {
          "base_uri": "https://localhost:8080/",
          "height": 119
        },
        "outputId": "2d8cdfbd-e0fd-485f-9229-9037e011aba6"
      },
      "source": [
        "!git clone https://github.com/ahathaway821/COVID-19-Fact-Checking.git"
      ],
      "execution_count": 3,
      "outputs": [
        {
          "output_type": "stream",
          "text": [
            "Cloning into 'COVID-19-Fact-Checking'...\n",
            "remote: Enumerating objects: 18, done.\u001b[K\n",
            "remote: Counting objects: 100% (18/18), done.\u001b[K\n",
            "remote: Compressing objects: 100% (15/15), done.\u001b[K\n",
            "remote: Total 18 (delta 2), reused 4 (delta 0), pack-reused 0\u001b[K\n",
            "Unpacking objects: 100% (18/18), done.\n"
          ],
          "name": "stdout"
        }
      ]
    },
    {
      "cell_type": "code",
      "metadata": {
        "id": "uGOHnSkR5fJg",
        "colab_type": "code",
        "colab": {
          "base_uri": "https://localhost:8080/",
          "height": 272
        },
        "outputId": "09efab51-1e4f-4dec-9e15-27058b6b9ba5"
      },
      "source": [
        "data = pd.read_csv('/content/COVID-19-Fact-Checking/data/poynterDataScraped27May2020.csv')\n",
        "data.head()"
      ],
      "execution_count": 7,
      "outputs": [
        {
          "output_type": "execute_result",
          "data": {
            "text/html": [
              "<div>\n",
              "<style scoped>\n",
              "    .dataframe tbody tr th:only-of-type {\n",
              "        vertical-align: middle;\n",
              "    }\n",
              "\n",
              "    .dataframe tbody tr th {\n",
              "        vertical-align: top;\n",
              "    }\n",
              "\n",
              "    .dataframe thead th {\n",
              "        text-align: right;\n",
              "    }\n",
              "</style>\n",
              "<table border=\"1\" class=\"dataframe\">\n",
              "  <thead>\n",
              "    <tr style=\"text-align: right;\">\n",
              "      <th></th>\n",
              "      <th>When did you see the claim?</th>\n",
              "      <th>Country 1</th>\n",
              "      <th>Country 2</th>\n",
              "      <th>Country 3</th>\n",
              "      <th>Country 4</th>\n",
              "      <th>Countries</th>\n",
              "      <th>Organization</th>\n",
              "      <th>What did you fact-check?</th>\n",
              "      <th>Who said/posted it?</th>\n",
              "      <th>URL to fact-checked article (in your language)</th>\n",
              "      <th>Final rating</th>\n",
              "      <th>Explanation</th>\n",
              "    </tr>\n",
              "  </thead>\n",
              "  <tbody>\n",
              "    <tr>\n",
              "      <th>0</th>\n",
              "      <td>2020/05/25</td>\n",
              "      <td>Brazil</td>\n",
              "      <td>NaN</td>\n",
              "      <td>NaN</td>\n",
              "      <td>NaN</td>\n",
              "      <td>Brazil</td>\n",
              "      <td>Agência Lupa</td>\n",
              "      <td>Brazilian states receive a R$ 16,450 extra fu...</td>\n",
              "      <td>Facebook</td>\n",
              "      <td>https://piaui.folha.uol.com.br/lupa/2020/05/25...</td>\n",
              "      <td>FALSE</td>\n",
              "      <td>According to the Ministry of Health, this ext...</td>\n",
              "    </tr>\n",
              "    <tr>\n",
              "      <th>1</th>\n",
              "      <td>2020/05/25</td>\n",
              "      <td>India</td>\n",
              "      <td>NaN</td>\n",
              "      <td>NaN</td>\n",
              "      <td>NaN</td>\n",
              "      <td>India</td>\n",
              "      <td>FactCrescendo</td>\n",
              "      <td>COVID-19 is a bacteria causing death due to t...</td>\n",
              "      <td>Facebook/WhatsApp</td>\n",
              "      <td>https://english.factcrescendo.com/2020/05/26/f...</td>\n",
              "      <td>FALSE</td>\n",
              "      <td>COVID-19 is a virus and the theory is baseles...</td>\n",
              "    </tr>\n",
              "    <tr>\n",
              "      <th>2</th>\n",
              "      <td>2020/05/25</td>\n",
              "      <td>Brazil</td>\n",
              "      <td>NaN</td>\n",
              "      <td>NaN</td>\n",
              "      <td>NaN</td>\n",
              "      <td>Brazil</td>\n",
              "      <td>Agência Lupa</td>\n",
              "      <td>A video shows a group of police officers salu...</td>\n",
              "      <td>Facebook</td>\n",
              "      <td>https://piaui.folha.uol.com.br/lupa/2020/05/25...</td>\n",
              "      <td>FALSE</td>\n",
              "      <td>The video is real, but they were not saluting...</td>\n",
              "    </tr>\n",
              "    <tr>\n",
              "      <th>3</th>\n",
              "      <td>2020/05/25</td>\n",
              "      <td>India</td>\n",
              "      <td>NaN</td>\n",
              "      <td>NaN</td>\n",
              "      <td>NaN</td>\n",
              "      <td>India</td>\n",
              "      <td>FactCrescendo</td>\n",
              "      <td>Video shows a doctor claiming that If you can...</td>\n",
              "      <td>Facebook/Twitter</td>\n",
              "      <td>https://marathi.factcrescendo.com/no-holding-y...</td>\n",
              "      <td>FALSE</td>\n",
              "      <td>\" Medical Experts have clarified that being ab...</td>\n",
              "    </tr>\n",
              "    <tr>\n",
              "      <th>4</th>\n",
              "      <td>2020/05/25</td>\n",
              "      <td>Spain</td>\n",
              "      <td>United States</td>\n",
              "      <td>NaN</td>\n",
              "      <td>NaN</td>\n",
              "      <td>Spain, United States</td>\n",
              "      <td>Maldita.es</td>\n",
              "      <td>A poem signed by K. O’Meara beginning with th...</td>\n",
              "      <td>Social media</td>\n",
              "      <td>https://maldita.es/malditobulo/2020/05/25/poem...</td>\n",
              "      <td>FALSE</td>\n",
              "      <td>It is a hoax. The title of the poem is \"In th...</td>\n",
              "    </tr>\n",
              "  </tbody>\n",
              "</table>\n",
              "</div>"
            ],
            "text/plain": [
              "  When did you see the claim?  ...                                        Explanation\n",
              "0                 2020/05/25   ...   According to the Ministry of Health, this ext...\n",
              "1                 2020/05/25   ...   COVID-19 is a virus and the theory is baseles...\n",
              "2                 2020/05/25   ...   The video is real, but they were not saluting...\n",
              "3                 2020/05/25   ...  \" Medical Experts have clarified that being ab...\n",
              "4                 2020/05/25   ...   It is a hoax. The title of the poem is \"In th...\n",
              "\n",
              "[5 rows x 12 columns]"
            ]
          },
          "metadata": {
            "tags": []
          },
          "execution_count": 7
        }
      ]
    },
    {
      "cell_type": "code",
      "metadata": {
        "id": "vYOuP-FZ-9Oc",
        "colab_type": "code",
        "colab": {
          "base_uri": "https://localhost:8080/",
          "height": 207
        },
        "outputId": "7787f778-b474-4624-dd45-cd9f8e9bc7a3"
      },
      "source": [
        "data.describe()"
      ],
      "execution_count": 23,
      "outputs": [
        {
          "output_type": "execute_result",
          "data": {
            "text/html": [
              "<div>\n",
              "<style scoped>\n",
              "    .dataframe tbody tr th:only-of-type {\n",
              "        vertical-align: middle;\n",
              "    }\n",
              "\n",
              "    .dataframe tbody tr th {\n",
              "        vertical-align: top;\n",
              "    }\n",
              "\n",
              "    .dataframe thead th {\n",
              "        text-align: right;\n",
              "    }\n",
              "</style>\n",
              "<table border=\"1\" class=\"dataframe\">\n",
              "  <thead>\n",
              "    <tr style=\"text-align: right;\">\n",
              "      <th></th>\n",
              "      <th>When did you see the claim?</th>\n",
              "      <th>Country 1</th>\n",
              "      <th>Country 2</th>\n",
              "      <th>Country 3</th>\n",
              "      <th>Country 4</th>\n",
              "      <th>Countries</th>\n",
              "      <th>Organization</th>\n",
              "      <th>What did you fact-check?</th>\n",
              "      <th>Who said/posted it?</th>\n",
              "      <th>URL to fact-checked article (in your language)</th>\n",
              "      <th>Final rating</th>\n",
              "      <th>Explanation</th>\n",
              "    </tr>\n",
              "  </thead>\n",
              "  <tbody>\n",
              "    <tr>\n",
              "      <th>count</th>\n",
              "      <td>6577</td>\n",
              "      <td>6577</td>\n",
              "      <td>556</td>\n",
              "      <td>116</td>\n",
              "      <td>30</td>\n",
              "      <td>6577</td>\n",
              "      <td>6577</td>\n",
              "      <td>6577</td>\n",
              "      <td>6577</td>\n",
              "      <td>6576</td>\n",
              "      <td>6577</td>\n",
              "      <td>6577</td>\n",
              "    </tr>\n",
              "    <tr>\n",
              "      <th>unique</th>\n",
              "      <td>129</td>\n",
              "      <td>101</td>\n",
              "      <td>91</td>\n",
              "      <td>49</td>\n",
              "      <td>24</td>\n",
              "      <td>353</td>\n",
              "      <td>91</td>\n",
              "      <td>5906</td>\n",
              "      <td>1021</td>\n",
              "      <td>5977</td>\n",
              "      <td>50</td>\n",
              "      <td>5831</td>\n",
              "    </tr>\n",
              "    <tr>\n",
              "      <th>top</th>\n",
              "      <td>2020/03/23</td>\n",
              "      <td>India</td>\n",
              "      <td>North Africa</td>\n",
              "      <td>Kyrgyzstan</td>\n",
              "      <td>Ecuador</td>\n",
              "      <td>India</td>\n",
              "      <td>AFP</td>\n",
              "      <td>A video viewed thousands of times on Facebook...</td>\n",
              "      <td>Facebook</td>\n",
              "      <td>http://www.ecuadorchequea.com/las-mentiras-sob...</td>\n",
              "      <td>False</td>\n",
              "      <td>Please click the link to read the full article</td>\n",
              "    </tr>\n",
              "    <tr>\n",
              "      <th>freq</th>\n",
              "      <td>144</td>\n",
              "      <td>1270</td>\n",
              "      <td>135</td>\n",
              "      <td>10</td>\n",
              "      <td>3</td>\n",
              "      <td>1262</td>\n",
              "      <td>662</td>\n",
              "      <td>5</td>\n",
              "      <td>2020</td>\n",
              "      <td>24</td>\n",
              "      <td>3001</td>\n",
              "      <td>96</td>\n",
              "    </tr>\n",
              "  </tbody>\n",
              "</table>\n",
              "</div>"
            ],
            "text/plain": [
              "       When did you see the claim?  ...                                      Explanation\n",
              "count                         6577  ...                                             6577\n",
              "unique                         129  ...                                             5831\n",
              "top                    2020/03/23   ...   Please click the link to read the full article\n",
              "freq                           144  ...                                               96\n",
              "\n",
              "[4 rows x 12 columns]"
            ]
          },
          "metadata": {
            "tags": []
          },
          "execution_count": 23
        }
      ]
    },
    {
      "cell_type": "markdown",
      "metadata": {
        "id": "UyZdxBZFDCEL",
        "colab_type": "text"
      },
      "source": [
        "### Where was it posted"
      ]
    },
    {
      "cell_type": "code",
      "metadata": {
        "id": "EZQ0Vq8SCGtK",
        "colab_type": "code",
        "colab": {
          "base_uri": "https://localhost:8080/",
          "height": 102
        },
        "outputId": "c410c3c0-4497-4304-9c8a-b6825baf7237"
      },
      "source": [
        "data['Who said/posted it?'].unique()"
      ],
      "execution_count": 48,
      "outputs": [
        {
          "output_type": "execute_result",
          "data": {
            "text/plain": [
              "array([' Facebook', ' Facebook/WhatsApp', ' Facebook/Twitter', ...,\n",
              "       ' retenews24.it',\n",
              "       ' Sputnik, and then other media outlets in the Balkan regio',\n",
              "       ' Emma Parker, writer at the Daily Star (and many others)'],\n",
              "      dtype=object)"
            ]
          },
          "metadata": {
            "tags": []
          },
          "execution_count": 48
        }
      ]
    },
    {
      "cell_type": "code",
      "metadata": {
        "id": "zbb2u_0HCLk_",
        "colab_type": "code",
        "colab": {
          "base_uri": "https://localhost:8080/",
          "height": 221
        },
        "outputId": "ba41d9c4-bf4e-4224-e5ab-b9a0fe17abd4"
      },
      "source": [
        "pd.value_counts(data['Who said/posted it?'])"
      ],
      "execution_count": 49,
      "outputs": [
        {
          "output_type": "execute_result",
          "data": {
            "text/plain": [
              " Facebook                                            2020\n",
              " WhatsApp                                             418\n",
              " Twitter                                              336\n",
              " Facebook, Twitter                                    222\n",
              " Many social media platforms                          215\n",
              "                                                     ... \n",
              " YouTube channel Balitang Duterte Tv                    1\n",
              " The Kenyan Voice                                       1\n",
              " WhatsApp, Twitter, Facebook, Instagram, websites       1\n",
              " Jerome Adams                                           1\n",
              " Video posted on Facebook and Youtube                   1\n",
              "Name: Who said/posted it?, Length: 1021, dtype: int64"
            ]
          },
          "metadata": {
            "tags": []
          },
          "execution_count": 49
        }
      ]
    },
    {
      "cell_type": "code",
      "metadata": {
        "id": "0jAaRzuwCusv",
        "colab_type": "code",
        "colab": {}
      },
      "source": [
        "# We need to separate out the commas. Facebook, Twitter should add that count to Facebook as well as Twitter. FB, Facebook posts all point to Facebook as well"
      ],
      "execution_count": 0,
      "outputs": []
    },
    {
      "cell_type": "code",
      "metadata": {
        "id": "FUqCIw2zCX_t",
        "colab_type": "code",
        "colab": {
          "base_uri": "https://localhost:8080/",
          "height": 609
        },
        "outputId": "c0609484-b0dc-4272-aaa3-2978c262148d"
      },
      "source": [
        "pd.value_counts(data['Who said/posted it?']).head(10).plot.barh(figsize=(10,10))"
      ],
      "execution_count": 52,
      "outputs": [
        {
          "output_type": "execute_result",
          "data": {
            "text/plain": [
              "<matplotlib.axes._subplots.AxesSubplot at 0x7fe0886e2128>"
            ]
          },
          "metadata": {
            "tags": []
          },
          "execution_count": 52
        },
        {
          "output_type": "display_data",
          "data": {
            "image/png": "[encoded data removed]",
            "text/plain": [
              "<Figure size 720x720 with 1 Axes>"
            ]
          },
          "metadata": {
            "tags": [],
            "needs_background": "light"
          }
        }
      ]
    },
    {
      "cell_type": "markdown",
      "metadata": {
        "id": "9PcENg0mDG5u",
        "colab_type": "text"
      },
      "source": [
        "### Distribution of the ratings"
      ]
    },
    {
      "cell_type": "code",
      "metadata": {
        "id": "FUORf2SN_JuC",
        "colab_type": "code",
        "colab": {
          "base_uri": "https://localhost:8080/",
          "height": 255
        },
        "outputId": "d1485085-d35d-486b-c73c-6f898315605c"
      },
      "source": [
        "data['Final rating'].unique()"
      ],
      "execution_count": 28,
      "outputs": [
        {
          "output_type": "execute_result",
          "data": {
            "text/plain": [
              "array(['FALSE', 'PARTLY FALSE', 'MISLEADING', 'Partly False',\n",
              "       'misleading', 'No evidence', 'False', 'Misleading', 'Partly false',\n",
              "       'Mostly False', 'MOSTLY FALSE', 'mislEADING', 'partly false',\n",
              "       'No Evidence', 'Mostly false', 'NO EVIDENCE', 'o evidence',\n",
              "       'mostly false', 'Explanatory', 'Two Pinocchios', 'Fake',\n",
              "       'half true', 'Half True', 'Mostly True', 'Suspicions',\n",
              "       'PARTLY TRUE', 'True bu', 'Partly true', 'MOSTLY TRUE',\n",
              "       'Partially correc', 'Misleading/False', 'Unprove',\n",
              "       'Partially false', '\"\\\\n(Org. doesn\\'t apply rating)\"',\n",
              "       'IN DISPUTE', 'Mostly true', 'false and misleading', 'Mixed',\n",
              "       'HALF TRUE', 'HALF TRUTH', 'Partially true', 'MiSLEADING',\n",
              "       'Correc', 'false', 'Unlikely', 'PANTS ON FIRE',\n",
              "       'Misinformation / Conspiracy theory', 'Fake news', 'Unverified',\n",
              "       'Not true'], dtype=object)"
            ]
          },
          "metadata": {
            "tags": []
          },
          "execution_count": 28
        }
      ]
    },
    {
      "cell_type": "code",
      "metadata": {
        "id": "oEwbAkF8_k_6",
        "colab_type": "code",
        "colab": {}
      },
      "source": [
        "'''\n",
        "We see that MISLEADING has been spelt in various ways and is being counted separately\n",
        "\n",
        "Fix the following\n",
        "    - False, FALSE\n",
        "    - Misleading, MISLEADING, misleading\n",
        "    - Mostly false, Mostly False, MOSTLY FALSE\n",
        "    - Partly false, PARTLY FALSE, Partly False\n",
        "    - No evidence, No Evidence, o evidence\n",
        "    - Explanatory\n",
        "    - MOSTLY TRUE, \n",
        "    - \"\\n(Org. doesn't apply rating)\"\n",
        "    - HALF TRUE\n",
        "    etc\n",
        "'''"
      ],
      "execution_count": 0,
      "outputs": []
    },
    {
      "cell_type": "code",
      "metadata": {
        "id": "9gV_3etx_pip",
        "colab_type": "code",
        "colab": {
          "base_uri": "https://localhost:8080/",
          "height": 884
        },
        "outputId": "a1c28921-5535-414e-bee6-11793c1b20ef"
      },
      "source": [
        "pd.value_counts(data['Final rating'])"
      ],
      "execution_count": 29,
      "outputs": [
        {
          "output_type": "execute_result",
          "data": {
            "text/plain": [
              "False                                 3001\n",
              "FALSE                                 2552\n",
              "Misleading                             396\n",
              "MISLEADING                             145\n",
              "Mostly false                            98\n",
              "Partly false                            90\n",
              "misleading                              56\n",
              "No evidence                             41\n",
              "Explanatory                             40\n",
              "Mostly False                            24\n",
              "PARTLY FALSE                            17\n",
              "No Evidence                             15\n",
              "Partly False                            10\n",
              "o evidence                               8\n",
              "MOSTLY TRUE                              7\n",
              "\"\\n(Org. doesn't apply rating)\"          7\n",
              "HALF TRUE                                6\n",
              "MOSTLY FALSE                             6\n",
              "Partially false                          5\n",
              "Fake                                     4\n",
              "Mostly True                              4\n",
              "mostly false                             4\n",
              "Two Pinocchios                           3\n",
              "partly false                             3\n",
              "Half True                                3\n",
              "Suspicions                               2\n",
              "Correc                                   2\n",
              "Unprove                                  2\n",
              "Misleading/False                         2\n",
              "half true                                2\n",
              "Not true                                 2\n",
              "PARTLY TRUE                              2\n",
              "HALF TRUTH                               1\n",
              "false                                    1\n",
              "Partly true                              1\n",
              "Partially correc                         1\n",
              "Unlikely                                 1\n",
              "Mixed                                    1\n",
              "Unverified                               1\n",
              "Partially true                           1\n",
              "NO EVIDENCE                              1\n",
              "Misinformation / Conspiracy theory       1\n",
              "MiSLEADING                               1\n",
              "PANTS ON FIRE                            1\n",
              "True bu                                  1\n",
              "mislEADING                               1\n",
              "IN DISPUTE                               1\n",
              "Fake news                                1\n",
              "false and misleading                     1\n",
              "Mostly true                              1\n",
              "Name: Final rating, dtype: int64"
            ]
          },
          "metadata": {
            "tags": []
          },
          "execution_count": 29
        }
      ]
    },
    {
      "cell_type": "code",
      "metadata": {
        "id": "AffJeI4GAMWv",
        "colab_type": "code",
        "colab": {}
      },
      "source": [
        "# Convert all ratings to lowercase\n",
        "data['Final rating'] = data['Final rating'].str.lower()"
      ],
      "execution_count": 0,
      "outputs": []
    },
    {
      "cell_type": "code",
      "metadata": {
        "id": "OioP-_lfBt3X",
        "colab_type": "code",
        "colab": {}
      },
      "source": [
        "data['Final rating'] = data['Final rating'].replace({'o evidence':'no evidence'})"
      ],
      "execution_count": 0,
      "outputs": []
    },
    {
      "cell_type": "code",
      "metadata": {
        "id": "E1iKCCf6AemS",
        "colab_type": "code",
        "colab": {
          "base_uri": "https://localhost:8080/",
          "height": 544
        },
        "outputId": "08ed7979-9e77-4b86-b168-8cd4d4f5332a"
      },
      "source": [
        "pd.value_counts(data['Final rating'])"
      ],
      "execution_count": 46,
      "outputs": [
        {
          "output_type": "execute_result",
          "data": {
            "text/plain": [
              "false                                 5554\n",
              "misleading                             599\n",
              "mostly false                           132\n",
              "partly false                           120\n",
              "no evidence                             65\n",
              "explanatory                             40\n",
              "mostly true                             12\n",
              "half true                               11\n",
              "\"\\n(org. doesn't apply rating)\"          7\n",
              "partially false                          5\n",
              "fake                                     4\n",
              "two pinocchios                           3\n",
              "partly true                              3\n",
              "misleading/false                         2\n",
              "suspicions                               2\n",
              "not true                                 2\n",
              "correc                                   2\n",
              "unprove                                  2\n",
              "partially correc                         1\n",
              "unverified                               1\n",
              "false and misleading                     1\n",
              "in dispute                               1\n",
              "mixed                                    1\n",
              "pants on fire                            1\n",
              "unlikely                                 1\n",
              "partially true                           1\n",
              "fake news                                1\n",
              "true bu                                  1\n",
              "half truth                               1\n",
              "misinformation / conspiracy theory       1\n",
              "Name: Final rating, dtype: int64"
            ]
          },
          "metadata": {
            "tags": []
          },
          "execution_count": 46
        }
      ]
    },
    {
      "cell_type": "code",
      "metadata": {
        "id": "xUJfakbE_Y5-",
        "colab_type": "code",
        "colab": {
          "base_uri": "https://localhost:8080/",
          "height": 609
        },
        "outputId": "f6b9c1ac-7d8f-43ff-e058-19e91e162936"
      },
      "source": [
        "pd.value_counts(data['Final rating']).sort_values().plot.barh(figsize=(10,10))"
      ],
      "execution_count": 47,
      "outputs": [
        {
          "output_type": "execute_result",
          "data": {
            "text/plain": [
              "<matplotlib.axes._subplots.AxesSubplot at 0x7fe0890db8d0>"
            ]
          },
          "metadata": {
            "tags": []
          },
          "execution_count": 47
        },
        {
          "output_type": "display_data",
          "data": {
            "image/png": "[encoded data removed]",
            "text/plain": [
              "<Figure size 720x720 with 1 Axes>"
            ]
          },
          "metadata": {
            "tags": [],
            "needs_background": "light"
          }
        }
      ]
    },
    {
      "cell_type": "markdown",
      "metadata": {
        "id": "eA6ysUKVDJkl",
        "colab_type": "text"
      },
      "source": [
        "### When was the claim posted"
      ]
    },
    {
      "cell_type": "code",
      "metadata": {
        "id": "wt1xZJgPDOz0",
        "colab_type": "code",
        "colab": {
          "base_uri": "https://localhost:8080/",
          "height": 221
        },
        "outputId": "341b7504-6a8b-4247-cd01-86e49e6e4501"
      },
      "source": [
        "pd.value_counts(data['When did you see the claim?'])"
      ],
      "execution_count": 55,
      "outputs": [
        {
          "output_type": "execute_result",
          "data": {
            "text/plain": [
              "2020/03/23     144\n",
              "2020/03/17     141\n",
              "2020/03/19     137\n",
              "2020/04/02     134\n",
              "2020/03/24     125\n",
              "              ... \n",
              "2020/01/23       3\n",
              "2020/01/21       2\n",
              "2020/01/18       1\n",
              "2020/01/14       1\n",
              "2020/01/19       1\n",
              "Name: When did you see the claim?, Length: 129, dtype: int64"
            ]
          },
          "metadata": {
            "tags": []
          },
          "execution_count": 55
        }
      ]
    },
    {
      "cell_type": "code",
      "metadata": {
        "id": "-l4HTcpBDV1-",
        "colab_type": "code",
        "colab": {
          "base_uri": "https://localhost:8080/",
          "height": 500
        },
        "outputId": "c6a4a5fa-468f-4d48-93cd-ed3bd1d528c1"
      },
      "source": [
        "pd.value_counts(data['When did you see the claim?']).head(30).plot.barh(figsize=(8,8))"
      ],
      "execution_count": 69,
      "outputs": [
        {
          "output_type": "execute_result",
          "data": {
            "text/plain": [
              "<matplotlib.axes._subplots.AxesSubplot at 0x7fe086dab470>"
            ]
          },
          "metadata": {
            "tags": []
          },
          "execution_count": 69
        },
        {
          "output_type": "display_data",
          "data": {
            "image/png": "[encoded data removed]",
            "text/plain": [
              "<Figure size 576x576 with 1 Axes>"
            ]
          },
          "metadata": {
            "tags": [],
            "needs_background": "light"
          }
        }
      ]
    },
    {
      "cell_type": "markdown",
      "metadata": {
        "id": "frx4YU3_DMLw",
        "colab_type": "text"
      },
      "source": [
        "### Create clusters\n"
      ]
    },
    {
      "cell_type": "code",
      "metadata": {
        "id": "RNuhT0Tj6BS-",
        "colab_type": "code",
        "colab": {}
      },
      "source": [
        "# Using : https://sanjayasubedi.com.np/nlp/nlp-with-python-document-clustering/"
      ],
      "execution_count": 0,
      "outputs": []
    },
    {
      "cell_type": "code",
      "metadata": {
        "id": "PHHqpgxG7bO_",
        "colab_type": "code",
        "colab": {
          "base_uri": "https://localhost:8080/",
          "height": 204
        },
        "outputId": "b489026d-e7c4-4727-8bb6-9349d6a54061"
      },
      "source": [
        "# for reproducibility\n",
        "random_state = 0 \n",
        "\n",
        "df = pd.read_csv('/content/COVID-19-Fact-Checking/data/poynterDataScraped27May2020.csv',\n",
        "                 usecols=[\"What did you fact-check?\", \"Final rating\"])\n",
        "df.columns = ['text', 'label']\n",
        "df.head()"
      ],
      "execution_count": 13,
      "outputs": [
        {
          "output_type": "execute_result",
          "data": {
            "text/html": [
              "<div>\n",
              "<style scoped>\n",
              "    .dataframe tbody tr th:only-of-type {\n",
              "        vertical-align: middle;\n",
              "    }\n",
              "\n",
              "    .dataframe tbody tr th {\n",
              "        vertical-align: top;\n",
              "    }\n",
              "\n",
              "    .dataframe thead th {\n",
              "        text-align: right;\n",
              "    }\n",
              "</style>\n",
              "<table border=\"1\" class=\"dataframe\">\n",
              "  <thead>\n",
              "    <tr style=\"text-align: right;\">\n",
              "      <th></th>\n",
              "      <th>text</th>\n",
              "      <th>label</th>\n",
              "    </tr>\n",
              "  </thead>\n",
              "  <tbody>\n",
              "    <tr>\n",
              "      <th>0</th>\n",
              "      <td>Brazilian states receive a R$ 16,450 extra fu...</td>\n",
              "      <td>FALSE</td>\n",
              "    </tr>\n",
              "    <tr>\n",
              "      <th>1</th>\n",
              "      <td>COVID-19 is a bacteria causing death due to t...</td>\n",
              "      <td>FALSE</td>\n",
              "    </tr>\n",
              "    <tr>\n",
              "      <th>2</th>\n",
              "      <td>A video shows a group of police officers salu...</td>\n",
              "      <td>FALSE</td>\n",
              "    </tr>\n",
              "    <tr>\n",
              "      <th>3</th>\n",
              "      <td>Video shows a doctor claiming that If you can...</td>\n",
              "      <td>FALSE</td>\n",
              "    </tr>\n",
              "    <tr>\n",
              "      <th>4</th>\n",
              "      <td>A poem signed by K. O’Meara beginning with th...</td>\n",
              "      <td>FALSE</td>\n",
              "    </tr>\n",
              "  </tbody>\n",
              "</table>\n",
              "</div>"
            ],
            "text/plain": [
              "                                                text  label\n",
              "0   Brazilian states receive a R$ 16,450 extra fu...  FALSE\n",
              "1   COVID-19 is a bacteria causing death due to t...  FALSE\n",
              "2   A video shows a group of police officers salu...  FALSE\n",
              "3   Video shows a doctor claiming that If you can...  FALSE\n",
              "4   A poem signed by K. O’Meara beginning with th...  FALSE"
            ]
          },
          "metadata": {
            "tags": []
          },
          "execution_count": 13
        }
      ]
    },
    {
      "cell_type": "code",
      "metadata": {
        "id": "fMlCOAfD8D5d",
        "colab_type": "code",
        "colab": {}
      },
      "source": [
        "vec = TfidfVectorizer(stop_words=\"english\")\n",
        "vec.fit(df.text.values)\n",
        "features = vec.transform(df.text.values)"
      ],
      "execution_count": 0,
      "outputs": []
    },
    {
      "cell_type": "code",
      "metadata": {
        "id": "ey6D7_UY8FVC",
        "colab_type": "code",
        "colab": {
          "base_uri": "https://localhost:8080/",
          "height": 85
        },
        "outputId": "158f47fa-4206-4802-e10c-845e722d038f"
      },
      "source": [
        "cls = MiniBatchKMeans(n_clusters=27, random_state=random_state)\n",
        "cls.fit(features)"
      ],
      "execution_count": 16,
      "outputs": [
        {
          "output_type": "execute_result",
          "data": {
            "text/plain": [
              "MiniBatchKMeans(batch_size=100, compute_labels=True, init='k-means++',\n",
              "                init_size=None, max_iter=100, max_no_improvement=10,\n",
              "                n_clusters=27, n_init=3, random_state=0,\n",
              "                reassignment_ratio=0.01, tol=0.0, verbose=0)"
            ]
          },
          "metadata": {
            "tags": []
          },
          "execution_count": 16
        }
      ]
    },
    {
      "cell_type": "code",
      "metadata": {
        "id": "2ZgLyh-78RIB",
        "colab_type": "code",
        "colab": {
          "base_uri": "https://localhost:8080/",
          "height": 34
        },
        "outputId": "4afb7e61-7938-4e77-c38e-f5c4a8717881"
      },
      "source": [
        "# predict cluster labels for new dataset\n",
        "cls.predict(features)\n",
        "\n",
        "# to get cluster labels for the dataset used while\n",
        "# training the model (used for models that does not\n",
        "# support prediction on new dataset).\n",
        "cls.labels_"
      ],
      "execution_count": 17,
      "outputs": [
        {
          "output_type": "execute_result",
          "data": {
            "text/plain": [
              "array([24, 24,  4, ..., 18,  2, 18], dtype=int32)"
            ]
          },
          "metadata": {
            "tags": []
          },
          "execution_count": 17
        }
      ]
    },
    {
      "cell_type": "code",
      "metadata": {
        "id": "jRRpm75w8WCA",
        "colab_type": "code",
        "colab": {}
      },
      "source": [
        "# reduce the features to 2D\n",
        "pca = PCA(n_components=2, random_state=random_state)\n",
        "reduced_features = pca.fit_transform(features.toarray())\n",
        "\n",
        "# reduce the cluster centers to 2D\n",
        "reduced_cluster_centers = pca.transform(cls.cluster_centers_)"
      ],
      "execution_count": 0,
      "outputs": []
    },
    {
      "cell_type": "code",
      "metadata": {
        "id": "utoMDg0m8a05",
        "colab_type": "code",
        "colab": {
          "base_uri": "https://localhost:8080/",
          "height": 282
        },
        "outputId": "2508eafd-9c79-4b33-9318-0c7220e97ac7"
      },
      "source": [
        "plt.scatter(reduced_features[:,0], reduced_features[:,1], c=cls.predict(features))\n",
        "plt.scatter(reduced_cluster_centers[:, 0], reduced_cluster_centers[:,1], marker='x', s=150, c='b')"
      ],
      "execution_count": 21,
      "outputs": [
        {
          "output_type": "execute_result",
          "data": {
            "text/plain": [
              "<matplotlib.collections.PathCollection at 0x7fe08b1b6908>"
            ]
          },
          "metadata": {
            "tags": []
          },
          "execution_count": 21
        },
        {
          "output_type": "display_data",
          "data": {
            "image/png": "[encoded data removed]",
            "text/plain": [
              "<Figure size 432x288 with 1 Axes>"
            ]
          },
          "metadata": {
            "tags": [],
            "needs_background": "light"
          }
        }
      ]
    }
  ]
}