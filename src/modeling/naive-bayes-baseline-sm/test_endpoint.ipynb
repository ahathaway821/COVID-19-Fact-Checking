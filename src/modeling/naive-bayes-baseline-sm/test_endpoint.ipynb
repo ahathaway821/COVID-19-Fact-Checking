{
 "cells": [
  {
   "cell_type": "code",
   "execution_count": 17,
   "metadata": {},
   "outputs": [
    {
     "name": "stdout",
     "output_type": "stream",
     "text": [
      "['covid-19 is bad']\n",
      "Returned:\n",
      "b'false'\n"
     ]
    }
   ],
   "source": [
    "import boto3\n",
    "import pandas as pd\n",
    "import json\n",
    "\n",
    "# Load in the deploy_test data\n",
    "#deploy_test = pd.read_csv(\"deploy_test.csv\").values.tolist()\n",
    "\n",
    "# Format the deploy_test data features\n",
    "request_body = {\n",
    "    \"claims\": [\n",
    "        \"covid-19 is bad\"\n",
    "    ]\n",
    "}\n",
    "\n",
    "# create sagemaker client using boto3\n",
    "client = boto3.client('sagemaker-runtime')\n",
    "\n",
    "# Specify endpoint and content_type\n",
    "endpoint_name = \"sagemaker-scikit-learn-2020-06-15-05-41-23-112\"\n",
    "content_type = \"application/json\"\n",
    "\n",
    "print(json.loads(json.dumps(request_body))['claims'])\n",
    "\n",
    "# Make call to endpoint\n",
    "response = client.invoke_endpoint(\n",
    "    EndpointName=endpoint_name,\n",
    "    ContentType=content_type,\n",
    "    Body=json.dumps(request_body)\n",
    "    )\n",
    "\n",
    "# Print out expected and returned labels\n",
    "print(\"Returned:\")\n",
    "print(response['Body'].read())"
   ]
  }
 ],
 "metadata": {
  "kernelspec": {
   "display_name": "conda_python3",
   "language": "python",
   "name": "conda_python3"
  },
  "language_info": {
   "codemirror_mode": {
    "name": "ipython",
    "version": 3
   },
   "file_extension": ".py",
   "mimetype": "text/x-python",
   "name": "python",
   "nbconvert_exporter": "python",
   "pygments_lexer": "ipython3",
   "version": "3.6.10"
  }
 },
 "nbformat": 4,
 "nbformat_minor": 4
}
