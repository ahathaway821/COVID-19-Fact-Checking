{
 "cells": [
  {
   "cell_type": "code",
   "execution_count": 1,
   "metadata": {},
   "outputs": [],
   "source": [
    "import os\n",
    "import logging\n",
    "import sagemaker\n",
    "from sagemaker import get_execution_role\n",
    "from sagemaker.tensorflow import TensorFlow\n",
    "from sagemaker.tensorflow.serving import Model"
   ]
  },
  {
   "cell_type": "code",
   "execution_count": 2,
   "metadata": {},
   "outputs": [],
   "source": [
    "sagemaker_session = sagemaker.Session()\n",
    "\n",
    "role = get_execution_role()\n",
    "region = sagemaker_session.boto_session.region_name"
   ]
  },
  {
   "cell_type": "code",
   "execution_count": 39,
   "metadata": {},
   "outputs": [
    {
     "name": "stderr",
     "output_type": "stream",
     "text": [
      "No framework_version specified, defaulting to version 1.11. This is not the latest supported version. If you would like to use version 2.1.0, please add framework_version=2.1.0 to your constructor.\n"
     ]
    }
   ],
   "source": [
    "estimator = TensorFlow(entry_point='model.py',\n",
    "                             role=role,\n",
    "                             train_instance_count=1,\n",
    "                             train_instance_type='ml.m5.xlarge',\n",
    "                             #framework_version='2.2.0',\n",
    "                             py_version='py3',\n",
    "                             source_dir='./train',\n",
    "                             image_name='763104351884.dkr.ecr.us-west-2.amazonaws.com/tensorflow-training:2.2.0-gpu-py37-cu102-ubuntu18.04',\n",
    "                             distributions={'parameter_server': {'enabled': True}})"
   ]
  },
  {
   "cell_type": "code",
   "execution_count": 40,
   "metadata": {},
   "outputs": [
    {
     "name": "stdout",
     "output_type": "stream",
     "text": [
      "2020-07-04 19:57:16 Starting - Starting the training job...\n",
      "2020-07-04 19:57:19 Starting - Launching requested ML instances.........\n",
      "2020-07-04 19:58:52 Starting - Preparing the instances for training...\n",
      "2020-07-04 19:59:30 Downloading - Downloading input data\n",
      "2020-07-04 19:59:30 Training - Downloading the training image.........\n",
      "2020-07-04 20:01:09 Training - Training image download completed. Training in progress..\u001b[34m2020-07-04 20:01:12,210 sagemaker-training-toolkit INFO     Imported framework sagemaker_tensorflow_container.training\u001b[0m\n",
      "\u001b[34m2020-07-04 20:01:12,216 sagemaker-training-toolkit INFO     No GPUs detected (normal if no gpus installed)\u001b[0m\n",
      "\u001b[34m2020-07-04 20:03:17,950 sagemaker-training-toolkit INFO     Installing dependencies from requirements.txt:\u001b[0m\n",
      "\u001b[34m/usr/local/bin/python3.7 -m pip install -r requirements.txt\u001b[0m\n",
      "\u001b[34mCollecting bert==2.2.0\n",
      "  Downloading bert-2.2.0.tar.gz (3.5 kB)\u001b[0m\n",
      "\u001b[34mCollecting bert-for-tf2==0.14.4\n",
      "  Downloading bert-for-tf2-0.14.4.tar.gz (40 kB)\u001b[0m\n",
      "\u001b[34mCollecting boto==2.48.0\n",
      "  Downloading boto-2.48.0-py2.py3-none-any.whl (1.4 MB)\u001b[0m\n",
      "\u001b[34mCollecting boto3==1.12.39\n",
      "  Downloading boto3-1.12.39-py2.py3-none-any.whl (128 kB)\u001b[0m\n",
      "\u001b[34mCollecting botocore==1.15.39\n",
      "  Downloading botocore-1.15.39-py2.py3-none-any.whl (6.1 MB)\u001b[0m\n",
      "\u001b[34mCollecting cloudpickle==0.5.3\n",
      "  Downloading cloudpickle-0.5.3-py2.py3-none-any.whl (13 kB)\u001b[0m\n",
      "\u001b[34mCollecting numpy==1.16.4\n",
      "  Downloading numpy-1.16.4-cp37-cp37m-manylinux1_x86_64.whl (17.3 MB)\u001b[0m\n",
      "\u001b[34mCollecting numpydoc==0.8.0\n",
      "  Downloading numpydoc-0.8.0.tar.gz (20 kB)\u001b[0m\n",
      "\u001b[34mCollecting pandas==1.0.5\n",
      "  Downloading pandas-1.0.5-cp37-cp37m-manylinux1_x86_64.whl (10.1 MB)\u001b[0m\n",
      "\u001b[34mCollecting tensorflow-hub==0.8.0\n",
      "  Downloading tensorflow_hub-0.8.0-py2.py3-none-any.whl (101 kB)\u001b[0m\n",
      "\u001b[34mRequirement already satisfied: joblib in /usr/local/lib/python3.7/site-packages (from -r requirements.txt (line 11)) (0.15.1)\u001b[0m\n",
      "\u001b[34mCollecting erlastic\n",
      "  Downloading erlastic-2.0.0.tar.gz (6.8 kB)\u001b[0m\n",
      "\u001b[34mCollecting py-params>=0.9.6\n",
      "  Downloading py-params-0.9.7.tar.gz (6.8 kB)\u001b[0m\n",
      "\u001b[34mCollecting params-flow>=0.8.0\n",
      "  Downloading params-flow-0.8.2.tar.gz (22 kB)\u001b[0m\n",
      "\u001b[34mRequirement already satisfied: jmespath<1.0.0,>=0.7.1 in /usr/local/lib/python3.7/site-packages (from boto3==1.12.39->-r requirements.txt (line 4)) (0.10.0)\u001b[0m\n",
      "\u001b[34mRequirement already satisfied: s3transfer<0.4.0,>=0.3.0 in /usr/local/lib/python3.7/site-packages (from boto3==1.12.39->-r requirements.txt (line 4)) (0.3.3)\u001b[0m\n",
      "\u001b[34mRequirement already satisfied: python-dateutil<3.0.0,>=2.1 in /usr/local/lib/python3.7/site-packages (from botocore==1.15.39->-r requirements.txt (line 5)) (2.8.1)\u001b[0m\n",
      "\u001b[34mRequirement already satisfied: docutils<0.16,>=0.10 in /usr/local/lib/python3.7/site-packages (from botocore==1.15.39->-r requirements.txt (line 5)) (0.15.2)\u001b[0m\n",
      "\u001b[34mRequirement already satisfied: urllib3<1.26,>=1.20; python_version != \"3.4\" in /usr/local/lib/python3.7/site-packages (from botocore==1.15.39->-r requirements.txt (line 5)) (1.25.9)\u001b[0m\n",
      "\u001b[34mCollecting sphinx>=1.2.3\n",
      "  Downloading Sphinx-3.1.1-py3-none-any.whl (2.9 MB)\u001b[0m\n",
      "\u001b[34mCollecting Jinja2>=2.3\n",
      "  Downloading Jinja2-2.11.2-py2.py3-none-any.whl (125 kB)\u001b[0m\n",
      "\u001b[34mRequirement already satisfied: pytz>=2017.2 in /usr/local/lib/python3.7/site-packages (from pandas==1.0.5->-r requirements.txt (line 9)) (2020.1)\u001b[0m\n",
      "\u001b[34mRequirement already satisfied: six>=1.12.0 in /usr/local/lib/python3.7/site-packages (from tensorflow-hub==0.8.0->-r requirements.txt (line 10)) (1.15.0)\u001b[0m\n",
      "\u001b[34mRequirement already satisfied: protobuf>=3.8.0 in /usr/local/lib/python3.7/site-packages (from tensorflow-hub==0.8.0->-r requirements.txt (line 10)) (3.12.2)\u001b[0m\n",
      "\u001b[34mCollecting tqdm\n",
      "  Downloading tqdm-4.47.0-py2.py3-none-any.whl (66 kB)\u001b[0m\n",
      "\u001b[34mRequirement already satisfied: packaging in /usr/local/lib/python3.7/site-packages (from sphinx>=1.2.3->numpydoc==0.8.0->-r requirements.txt (line 8)) (20.4)\u001b[0m\n",
      "\u001b[34mRequirement already satisfied: requests>=2.5.0 in /usr/local/lib/python3.7/site-packages (from sphinx>=1.2.3->numpydoc==0.8.0->-r requirements.txt (line 8)) (2.23.0)\u001b[0m\n",
      "\u001b[34mCollecting sphinxcontrib-applehelp\n",
      "  Downloading sphinxcontrib_applehelp-1.0.2-py2.py3-none-any.whl (121 kB)\u001b[0m\n",
      "\u001b[34mCollecting sphinxcontrib-devhelp\n",
      "  Downloading sphinxcontrib_devhelp-1.0.2-py2.py3-none-any.whl (84 kB)\u001b[0m\n",
      "\u001b[34mCollecting alabaster<0.8,>=0.7\n",
      "  Downloading alabaster-0.7.12-py2.py3-none-any.whl (14 kB)\u001b[0m\n",
      "\u001b[34mCollecting sphinxcontrib-serializinghtml\n",
      "  Downloading sphinxcontrib_serializinghtml-1.1.4-py2.py3-none-any.whl (89 kB)\u001b[0m\n",
      "\u001b[34mCollecting Pygments>=2.0\n",
      "  Downloading Pygments-2.6.1-py3-none-any.whl (914 kB)\u001b[0m\n",
      "\u001b[34mCollecting sphinxcontrib-qthelp\n",
      "  Downloading sphinxcontrib_qthelp-1.0.3-py2.py3-none-any.whl (90 kB)\u001b[0m\n",
      "\u001b[34mCollecting snowballstemmer>=1.1\n",
      "  Downloading snowballstemmer-2.0.0-py2.py3-none-any.whl (97 kB)\u001b[0m\n",
      "\u001b[34mCollecting sphinxcontrib-jsmath\n",
      "  Downloading sphinxcontrib_jsmath-1.0.1-py2.py3-none-any.whl (5.1 kB)\u001b[0m\n",
      "\u001b[34mCollecting babel>=1.3\n",
      "  Downloading Babel-2.8.0-py2.py3-none-any.whl (8.6 MB)\u001b[0m\n",
      "\u001b[34mRequirement already satisfied: setuptools in /usr/local/lib/python3.7/site-packages (from sphinx>=1.2.3->numpydoc==0.8.0->-r requirements.txt (line 8)) (47.1.1)\u001b[0m\n",
      "\u001b[34mCollecting imagesize\n",
      "  Downloading imagesize-1.2.0-py2.py3-none-any.whl (4.8 kB)\u001b[0m\n",
      "\u001b[34mCollecting sphinxcontrib-htmlhelp\n",
      "  Downloading sphinxcontrib_htmlhelp-1.0.3-py2.py3-none-any.whl (96 kB)\u001b[0m\n",
      "\u001b[34mCollecting MarkupSafe>=0.23\n",
      "  Downloading MarkupSafe-1.1.1-cp37-cp37m-manylinux1_x86_64.whl (27 kB)\u001b[0m\n",
      "\u001b[34mRequirement already satisfied: pyparsing>=2.0.2 in /usr/local/lib/python3.7/site-packages (from packaging->sphinx>=1.2.3->numpydoc==0.8.0->-r requirements.txt (line 8)) (2.4.7)\u001b[0m\n",
      "\u001b[34mRequirement already satisfied: idna<3,>=2.5 in /usr/local/lib/python3.7/site-packages (from requests>=2.5.0->sphinx>=1.2.3->numpydoc==0.8.0->-r requirements.txt (line 8)) (2.9)\u001b[0m\n",
      "\u001b[34mRequirement already satisfied: chardet<4,>=3.0.2 in /usr/local/lib/python3.7/site-packages (from requests>=2.5.0->sphinx>=1.2.3->numpydoc==0.8.0->-r requirements.txt (line 8)) (3.0.4)\u001b[0m\n",
      "\u001b[34mRequirement already satisfied: certifi>=2017.4.17 in /usr/local/lib/python3.7/site-packages (from requests>=2.5.0->sphinx>=1.2.3->numpydoc==0.8.0->-r requirements.txt (line 8)) (2020.4.5.2)\u001b[0m\n",
      "\u001b[34mBuilding wheels for collected packages: bert, bert-for-tf2, numpydoc, erlastic, py-params, params-flow\n",
      "  Building wheel for bert (setup.py): started\n",
      "  Building wheel for bert (setup.py): finished with status 'done'\n",
      "  Created wheel for bert: filename=bert-2.2.0-py3-none-any.whl size=3754 sha256=e961cfedadf3a85ee00304162badb0b0ef6c479a8f349b00d97d281f4b8f8e11\n",
      "  Stored in directory: /root/.cache/pip/wheels/bb/31/1b/c05f362e347429b7436954d1a2280fe464731e8f569123a848\n",
      "  Building wheel for bert-for-tf2 (setup.py): started\n",
      "  Building wheel for bert-for-tf2 (setup.py): finished with status 'done'\n",
      "  Created wheel for bert-for-tf2: filename=bert_for_tf2-0.14.4-py3-none-any.whl size=30114 sha256=53a4fa2b28de76d7367cf231017816f76e8dd3c31fee35dfcc6debda7e70b58d\n",
      "  Stored in directory: /root/.cache/pip/wheels/6c/c9/9c/363182ea34a736dae336eeaf0dd4a7eec3c6a5afe32373e1fe\n",
      "  Building wheel for numpydoc (setup.py): started\n",
      "  Building wheel for numpydoc (setup.py): finished with status 'done'\n",
      "  Created wheel for numpydoc: filename=numpydoc-0.8.0-py3-none-any.whl size=23049 sha256=2d6ed5e12693b4035387c2e1878919343260b0e3770c24d362332daae2de1c9b\n",
      "  Stored in directory: /root/.cache/pip/wheels/c9/23/55/179a740eaf5b758a01ec6646a8a6a9ab2153fb40b2a0ba9c83\n",
      "  Building wheel for erlastic (setup.py): started\u001b[0m\n",
      "\u001b[34m  Building wheel for erlastic (setup.py): finished with status 'done'\n",
      "  Created wheel for erlastic: filename=erlastic-2.0.0-py3-none-any.whl size=6787 sha256=08fa6b7961193dfd2dae306f55c80d266e75de796681d920e79f66633036e9f3\n",
      "  Stored in directory: /root/.cache/pip/wheels/94/f1/b4/0b98b1e94775da6a0b1130e342d22af05cd269e1172c19f40f\n",
      "  Building wheel for py-params (setup.py): started\n",
      "  Building wheel for py-params (setup.py): finished with status 'done'\n",
      "  Created wheel for py-params: filename=py_params-0.9.7-py3-none-any.whl size=7302 sha256=52103820f298ba21dac33795fbc3ff4e0807863594f41ab0353dd9b70b20b9d3\n",
      "  Stored in directory: /root/.cache/pip/wheels/47/3d/2d/bbffcfd6b9f4b8b5cbf07e7520ac2676192fe9431240c13ee8\n",
      "  Building wheel for params-flow (setup.py): started\n",
      "  Building wheel for params-flow (setup.py): finished with status 'done'\n",
      "  Created wheel for params-flow: filename=params_flow-0.8.2-py3-none-any.whl size=19473 sha256=1a87eba5b8e5fb08df0816d83e94c7d2a18bdb7f65580d4085523c6b00342cc7\n",
      "  Stored in directory: /root/.cache/pip/wheels/0e/fc/d2/a44fff33af0f233d7def6e7de413006d57c10e10ad736fe8f5\u001b[0m\n",
      "\u001b[34mSuccessfully built bert bert-for-tf2 numpydoc erlastic py-params params-flow\u001b[0m\n",
      "\u001b[34mERROR: sagemaker 1.60.2 has requirement boto3>=1.13.6, but you'll have boto3 1.12.39 which is incompatible.\u001b[0m\n",
      "\u001b[34mERROR: awscli 1.18.79 has requirement botocore==1.17.2, but you'll have botocore 1.15.39 which is incompatible.\u001b[0m\n",
      "\u001b[34mInstalling collected packages: erlastic, bert, py-params, numpy, tqdm, params-flow, bert-for-tf2, boto, botocore, boto3, cloudpickle, sphinxcontrib-applehelp, sphinxcontrib-devhelp, alabaster, sphinxcontrib-serializinghtml, Pygments, sphinxcontrib-qthelp, snowballstemmer, sphinxcontrib-jsmath, babel, imagesize, MarkupSafe, Jinja2, sphinxcontrib-htmlhelp, sphinx, numpydoc, pandas, tensorflow-hub\n",
      "  Attempting uninstall: numpy\n",
      "    Found existing installation: numpy 1.18.4\n",
      "    Uninstalling numpy-1.18.4:\n",
      "      Successfully uninstalled numpy-1.18.4\u001b[0m\n",
      "\u001b[34m  Attempting uninstall: botocore\n",
      "    Found existing installation: botocore 1.17.2\n",
      "    Uninstalling botocore-1.17.2:\n",
      "      Successfully uninstalled botocore-1.17.2\u001b[0m\n",
      "\u001b[34m  Attempting uninstall: boto3\n",
      "    Found existing installation: boto3 1.14.2\n",
      "    Uninstalling boto3-1.14.2:\n",
      "      Successfully uninstalled boto3-1.14.2\n",
      "  Attempting uninstall: cloudpickle\n",
      "    Found existing installation: cloudpickle 1.4.1\n",
      "    Uninstalling cloudpickle-1.4.1:\n",
      "      Successfully uninstalled cloudpickle-1.4.1\u001b[0m\n",
      "\u001b[34m  Attempting uninstall: pandas\n",
      "    Found existing installation: pandas 1.0.3\n",
      "    Uninstalling pandas-1.0.3:\n",
      "      Successfully uninstalled pandas-1.0.3\u001b[0m\n",
      "\u001b[34mSuccessfully installed Jinja2-2.11.2 MarkupSafe-1.1.1 Pygments-2.6.1 alabaster-0.7.12 babel-2.8.0 bert-2.2.0 bert-for-tf2-0.14.4 boto-2.48.0 boto3-1.12.39 botocore-1.15.39 cloudpickle-0.5.3 erlastic-2.0.0 imagesize-1.2.0 numpy-1.16.4 numpydoc-0.8.0 pandas-1.0.5 params-flow-0.8.2 py-params-0.9.7 snowballstemmer-2.0.0 sphinx-3.1.1 sphinxcontrib-applehelp-1.0.2 sphinxcontrib-devhelp-1.0.2 sphinxcontrib-htmlhelp-1.0.3 sphinxcontrib-jsmath-1.0.1 sphinxcontrib-qthelp-1.0.3 sphinxcontrib-serializinghtml-1.1.4 tensorflow-hub-0.8.0 tqdm-4.47.0\u001b[0m\n",
      "\u001b[34m2020-07-04 20:03:44,838 sagemaker-training-toolkit INFO     No GPUs detected (normal if no gpus installed)\u001b[0m\n",
      "\u001b[34m2020-07-04 20:03:44,854 sagemaker-training-toolkit INFO     No GPUs detected (normal if no gpus installed)\u001b[0m\n",
      "\u001b[34m2020-07-04 20:03:44,869 sagemaker-training-toolkit INFO     No GPUs detected (normal if no gpus installed)\u001b[0m\n",
      "\u001b[34m2020-07-04 20:03:44,878 sagemaker-training-toolkit INFO     Invoking user script\n",
      "\u001b[0m\n",
      "\u001b[34mTraining Env:\n",
      "\u001b[0m\n",
      "\u001b[34m{\n",
      "    \"additional_framework_parameters\": {\n",
      "        \"sagemaker_parameter_server_enabled\": true\n",
      "    },\n",
      "    \"channel_input_dirs\": {},\n",
      "    \"current_host\": \"algo-1\",\n",
      "    \"framework_module\": \"sagemaker_tensorflow_container.training:main\",\n",
      "    \"hosts\": [\n",
      "        \"algo-1\"\n",
      "    ],\n",
      "    \"hyperparameters\": {\n",
      "        \"model_dir\": \"s3://sagemaker-us-west-2-378706508412/tensorflow-training-2020-07-04-19-49-13-246/model\"\n",
      "    },\n",
      "    \"input_config_dir\": \"/opt/ml/input/config\",\n",
      "    \"input_data_config\": {},\n",
      "    \"input_dir\": \"/opt/ml/input\",\n",
      "    \"is_master\": true,\n",
      "    \"job_name\": \"tensorflow-training-2020-07-04-19-49-13-246\",\n",
      "    \"log_level\": 20,\n",
      "    \"master_hostname\": \"algo-1\",\n",
      "    \"model_dir\": \"/opt/ml/model\",\n",
      "    \"module_dir\": \"s3://sagemaker-us-west-2-378706508412/tensorflow-training-2020-07-04-19-49-13-246/source/sourcedir.tar.gz\",\n",
      "    \"module_name\": \"model\",\n",
      "    \"network_interface_name\": \"eth0\",\n",
      "    \"num_cpus\": 4,\n",
      "    \"num_gpus\": 0,\n",
      "    \"output_data_dir\": \"/opt/ml/output/data\",\n",
      "    \"output_dir\": \"/opt/ml/output\",\n",
      "    \"output_intermediate_dir\": \"/opt/ml/output/intermediate\",\n",
      "    \"resource_config\": {\n",
      "        \"current_host\": \"algo-1\",\n",
      "        \"hosts\": [\n",
      "            \"algo-1\"\n",
      "        ],\n",
      "        \"network_interface_name\": \"eth0\"\n",
      "    },\n",
      "    \"user_entry_point\": \"model.py\"\u001b[0m\n",
      "\u001b[34m}\n",
      "\u001b[0m\n",
      "\u001b[34mEnvironment variables:\n",
      "\u001b[0m\n",
      "\u001b[34mSM_HOSTS=[\"algo-1\"]\u001b[0m\n",
      "\u001b[34mSM_NETWORK_INTERFACE_NAME=eth0\u001b[0m\n",
      "\u001b[34mSM_HPS={\"model_dir\":\"s3://sagemaker-us-west-2-378706508412/tensorflow-training-2020-07-04-19-49-13-246/model\"}\u001b[0m\n",
      "\u001b[34mSM_USER_ENTRY_POINT=model.py\u001b[0m\n",
      "\u001b[34mSM_FRAMEWORK_PARAMS={\"sagemaker_parameter_server_enabled\":true}\u001b[0m\n",
      "\u001b[34mSM_RESOURCE_CONFIG={\"current_host\":\"algo-1\",\"hosts\":[\"algo-1\"],\"network_interface_name\":\"eth0\"}\u001b[0m\n",
      "\u001b[34mSM_INPUT_DATA_CONFIG={}\u001b[0m\n",
      "\u001b[34mSM_OUTPUT_DATA_DIR=/opt/ml/output/data\u001b[0m\n",
      "\u001b[34mSM_CHANNELS=[]\u001b[0m\n",
      "\u001b[34mSM_CURRENT_HOST=algo-1\u001b[0m\n",
      "\u001b[34mSM_MODULE_NAME=model\u001b[0m\n",
      "\u001b[34mSM_LOG_LEVEL=20\u001b[0m\n",
      "\u001b[34mSM_FRAMEWORK_MODULE=sagemaker_tensorflow_container.training:main\u001b[0m\n",
      "\u001b[34mSM_INPUT_DIR=/opt/ml/input\u001b[0m\n",
      "\u001b[34mSM_INPUT_CONFIG_DIR=/opt/ml/input/config\u001b[0m\n",
      "\u001b[34mSM_OUTPUT_DIR=/opt/ml/output\u001b[0m\n",
      "\u001b[34mSM_NUM_CPUS=4\u001b[0m\n",
      "\u001b[34mSM_NUM_GPUS=0\u001b[0m\n",
      "\u001b[34mSM_MODEL_DIR=/opt/ml/model\u001b[0m\n",
      "\u001b[34mSM_MODULE_DIR=s3://sagemaker-us-west-2-378706508412/tensorflow-training-2020-07-04-19-49-13-246/source/sourcedir.tar.gz\u001b[0m\n",
      "\u001b[34mSM_TRAINING_ENV={\"additional_framework_parameters\":{\"sagemaker_parameter_server_enabled\":true},\"channel_input_dirs\":{},\"current_host\":\"algo-1\",\"framework_module\":\"sagemaker_tensorflow_container.training:main\",\"hosts\":[\"algo-1\"],\"hyperparameters\":{\"model_dir\":\"s3://sagemaker-us-west-2-378706508412/tensorflow-training-2020-07-04-19-49-13-246/model\"},\"input_config_dir\":\"/opt/ml/input/config\",\"input_data_config\":{},\"input_dir\":\"/opt/ml/input\",\"is_master\":true,\"job_name\":\"tensorflow-training-2020-07-04-19-49-13-246\",\"log_level\":20,\"master_hostname\":\"algo-1\",\"model_dir\":\"/opt/ml/model\",\"module_dir\":\"s3://sagemaker-us-west-2-378706508412/tensorflow-training-2020-07-04-19-49-13-246/source/sourcedir.tar.gz\",\"module_name\":\"model\",\"network_interface_name\":\"eth0\",\"num_cpus\":4,\"num_gpus\":0,\"output_data_dir\":\"/opt/ml/output/data\",\"output_dir\":\"/opt/ml/output\",\"output_intermediate_dir\":\"/opt/ml/output/intermediate\",\"resource_config\":{\"current_host\":\"algo-1\",\"hosts\":[\"algo-1\"],\"network_interface_name\":\"eth0\"},\"user_entry_point\":\"model.py\"}\u001b[0m\n",
      "\u001b[34mSM_USER_ARGS=[\"--model_dir\",\"s3://sagemaker-us-west-2-378706508412/tensorflow-training-2020-07-04-19-49-13-246/model\"]\u001b[0m\n",
      "\u001b[34mSM_OUTPUT_INTERMEDIATE_DIR=/opt/ml/output/intermediate\u001b[0m\n",
      "\u001b[34mSM_HP_MODEL_DIR=s3://sagemaker-us-west-2-378706508412/tensorflow-training-2020-07-04-19-49-13-246/model\u001b[0m\n",
      "\u001b[34mPYTHONPATH=/opt/ml/code:/usr/local/bin:/usr/local/lib/python37.zip:/usr/local/lib/python3.7:/usr/local/lib/python3.7/lib-dynload:/usr/local/lib/python3.7/site-packages\n",
      "\u001b[0m\n",
      "\u001b[34mInvoking script with the following command:\n",
      "\u001b[0m\n",
      "\u001b[34m/usr/local/bin/python3.7 model.py --model_dir s3://sagemaker-us-west-2-378706508412/tensorflow-training-2020-07-04-19-49-13-246/model\n",
      "\n",
      "\u001b[0m\n",
      "\u001b[34m2020-07-04 20:03:56.203069: W tensorflow/stream_executor/platform/default/dso_loader.cc:55] Could not load dynamic library 'libcuda.so.1'; dlerror: libcuda.so.1: cannot open shared object file: No such file or directory; LD_LIBRARY_PATH: /usr/local/openmpi/lib:/usr/local/nvidia/lib:/usr/local/nvidia/lib64\u001b[0m\n",
      "\u001b[34m2020-07-04 20:03:56.203516: E tensorflow/stream_executor/cuda/cuda_driver.cc:313] failed call to cuInit: UNKNOWN ERROR (303)\u001b[0m\n",
      "\u001b[34ms3://trainedbertmodelweights/BERT_EMBEDDINGS_TRAINABLE_CNN_weights-improvement-19-0.98.hdf5\u001b[0m\n",
      "\n",
      "2020-07-04 20:04:20 Uploading - Uploading generated training model\u001b[34mbert shape (None, None, 768)\u001b[0m\n",
      "\u001b[34m2020-07-04 20:04:06.828334: W tensorflow/python/util/util.cc:329] Sets are not currently considered sequences, but this may change in the future, so consider avoiding using them.\u001b[0m\n",
      "\u001b[34mWARNING:tensorflow:From /usr/local/lib/python3.7/site-packages/tensorflow/python/ops/resource_variable_ops.py:1817: calling BaseResourceVariable.__init__ (from tensorflow.python.ops.resource_variable_ops) with constraint is deprecated and will be removed in a future version.\u001b[0m\n",
      "\u001b[34mInstructions for updating:\u001b[0m\n",
      "\u001b[34mIf using Keras pass *_constraint arguments to layers.\u001b[0m\n",
      "\u001b[34mWARNING:tensorflow:From /usr/local/lib/python3.7/site-packages/tensorflow/python/ops/resource_variable_ops.py:1817: calling BaseResourceVariable.__init__ (from tensorflow.python.ops.resource_variable_ops) with constraint is deprecated and will be removed in a future version.\u001b[0m\n",
      "\u001b[34mInstructions for updating:\u001b[0m\n",
      "\u001b[34mIf using Keras pass *_constraint arguments to layers.\u001b[0m\n",
      "\u001b[34m2020-07-04 20:04:16,775 sagemaker-training-toolkit INFO     Reporting training SUCCESS\u001b[0m\n",
      "\n",
      "2020-07-04 20:05:16 Completed - Training job completed\n",
      "Training seconds: 352\n",
      "Billable seconds: 352\n"
     ]
    }
   ],
   "source": [
    "estimator.fit()"
   ]
  },
  {
   "cell_type": "code",
   "execution_count": null,
   "metadata": {},
   "outputs": [],
   "source": [
    "#predictor = estimator.deploy(initial_instance_count=1, instance_type='ml.p2.xlarge')"
   ]
  },
  {
   "cell_type": "code",
   "execution_count": 47,
   "metadata": {},
   "outputs": [
    {
     "data": {
      "text/plain": [
       "'arn:aws:iam::378706508412:role/service-role/AmazonSageMaker-ExecutionRole-20200607T125385'"
      ]
     },
     "execution_count": 47,
     "metadata": {},
     "output_type": "execute_result"
    }
   ],
   "source": [
    "role"
   ]
  },
  {
   "cell_type": "code",
   "execution_count": 100,
   "metadata": {},
   "outputs": [
    {
     "name": "stdout",
     "output_type": "stream",
     "text": [
      "-----------------!"
     ]
    }
   ],
   "source": [
    "model_location = 's3://sagemaker-us-west-2-378706508412/tensorflow-training-2020-07-04-19-49-13-246/output/model.tar.gz'\n",
    "\n",
    "deployment_model = Model(\n",
    "              entry_point='inference.py',\n",
    "              model_data=model_location,\n",
    "              #framework_version='2.2.0'\n",
    "              source_dir='./serve',\n",
    "              container_log_level = logging.DEBUG,\n",
    "              image='763104351884.dkr.ecr.us-west-2.amazonaws.com/tensorflow-inference:2.2.0-gpu-py37-cu102-ubuntu18.04',\n",
    "              #image='763104351884.dkr.ecr.us-west-2.amazonaws.com/tensorflow-inference:1.15.2-gpu-py36-cu100-ubuntu18.04',\n",
    "              role=role)\n",
    "\n",
    "predictor = deployment_model.deploy(initial_instance_count=1, instance_type='ml.t2.2xlarge')\n"
   ]
  },
  {
   "cell_type": "code",
   "execution_count": 106,
   "metadata": {},
   "outputs": [
    {
     "data": {
      "text/plain": [
       "{'predictions': [[0.000627173402]]}"
      ]
     },
     "execution_count": 106,
     "metadata": {},
     "output_type": "execute_result"
    }
   ],
   "source": [
    "predictor.predict({'claim_text': 'masks spread the coronavirus'})"
   ]
  },
  {
   "cell_type": "code",
   "execution_count": 104,
   "metadata": {},
   "outputs": [
    {
     "data": {
      "text/plain": [
       "'tensorflow-inference-2020-07-07-05-29-55-973'"
      ]
     },
     "execution_count": 104,
     "metadata": {},
     "output_type": "execute_result"
    }
   ],
   "source": [
    "predictor.endpoint"
   ]
  },
  {
   "cell_type": "code",
   "execution_count": null,
   "metadata": {},
   "outputs": [],
   "source": []
  },
  {
   "cell_type": "code",
   "execution_count": null,
   "metadata": {},
   "outputs": [],
   "source": []
  },
  {
   "cell_type": "code",
   "execution_count": null,
   "metadata": {},
   "outputs": [],
   "source": []
  },
  {
   "cell_type": "code",
   "execution_count": 28,
   "metadata": {},
   "outputs": [],
   "source": []
  },
  {
   "cell_type": "code",
   "execution_count": 29,
   "metadata": {},
   "outputs": [],
   "source": []
  },
  {
   "cell_type": "code",
   "execution_count": null,
   "metadata": {},
   "outputs": [],
   "source": []
  }
 ],
 "metadata": {
  "kernelspec": {
   "display_name": "conda_tensorflow_p36",
   "language": "python",
   "name": "conda_tensorflow_p36"
  },
  "language_info": {
   "codemirror_mode": {
    "name": "ipython",
    "version": 3
   },
   "file_extension": ".py",
   "mimetype": "text/x-python",
   "name": "python",
   "nbconvert_exporter": "python",
   "pygments_lexer": "ipython3",
   "version": "3.6.6"
  }
 },
 "nbformat": 4,
 "nbformat_minor": 4
}
