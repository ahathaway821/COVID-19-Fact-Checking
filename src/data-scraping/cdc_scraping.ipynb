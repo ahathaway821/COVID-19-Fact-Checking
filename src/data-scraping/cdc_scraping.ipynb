{
  "nbformat": 4,
  "nbformat_minor": 0,
  "metadata": {
    "colab": {
      "name": "cdc_scraping.ipynb",
      "provenance": []
    },
    "kernelspec": {
      "name": "python3",
      "display_name": "Python 3"
    }
  },
  "cells": [
    {
      "cell_type": "code",
      "metadata": {
        "id": "9Y91wnOKiloB",
        "colab_type": "code",
        "colab": {
          "base_uri": "https://localhost:8080/",
          "height": 51
        },
        "outputId": "b7f2230e-b8af-452a-e48a-bdae8aa48a81"
      },
      "source": [
        "!pip install beautifulsoup4\n",
        "!pip install soupsieve\n",
        "import pandas as pd\n",
        "import requests\n",
        "from bs4 import BeautifulSoup\n",
        "import pandas as pd\n",
        "from urllib.request import Request, urlopen\n",
        "from datetime import date"
      ],
      "execution_count": 17,
      "outputs": [
        {
          "output_type": "stream",
          "text": [
            "Requirement already satisfied: beautifulsoup4 in /usr/local/lib/python3.6/dist-packages (4.6.3)\n",
            "Requirement already satisfied: soupsieve in /usr/local/lib/python3.6/dist-packages (2.0.1)\n"
          ],
          "name": "stdout"
        }
      ]
    },
    {
      "cell_type": "code",
      "metadata": {
        "id": "IV8rWQbeiuXx",
        "colab_type": "code",
        "colab": {}
      },
      "source": [
        "url = 'https://www.cdc.gov/coronavirus/2019-ncov/faq.html'\n",
        "req = Request(url , headers={'User-Agent': 'Mozilla/5.0'})\n",
        "\n",
        "webpage = urlopen(req).read()\n",
        "soup = BeautifulSoup(webpage, 'html.parser')\n",
        "faqs = soup.find_all('div', attrs={'class':'card card-accordion '})"
      ],
      "execution_count": 0,
      "outputs": []
    },
    {
      "cell_type": "code",
      "metadata": {
        "id": "HCEf5N22jlTd",
        "colab_type": "code",
        "colab": {
          "base_uri": "https://localhost:8080/",
          "height": 419
        },
        "outputId": "63419446-d1c9-4782-8a4d-28c4eb1c3310"
      },
      "source": [
        "d = []\n",
        "for faq in faqs:\n",
        "  faq_header = faq.find('div', attrs={'class':'card-header'}).text\n",
        "  faq_content = faq.find('div', attrs={'class':'card-body'}).text\n",
        "  faq_category = faq.parent.parent.parent.find('h3').text\n",
        "  d.append({\n",
        "      'faq_header': faq_header,\n",
        "      'faq_content': faq_content,\n",
        "      'faq_category': faq_category,\n",
        "      'date_collected': date.today().strftime(\"%m/%d/%y\")\n",
        "  })\n",
        "\n",
        "df = pd.DataFrame(d)\n",
        "df"
      ],
      "execution_count": 21,
      "outputs": [
        {
          "output_type": "execute_result",
          "data": {
            "text/html": [
              "<div>\n",
              "<style scoped>\n",
              "    .dataframe tbody tr th:only-of-type {\n",
              "        vertical-align: middle;\n",
              "    }\n",
              "\n",
              "    .dataframe tbody tr th {\n",
              "        vertical-align: top;\n",
              "    }\n",
              "\n",
              "    .dataframe thead th {\n",
              "        text-align: right;\n",
              "    }\n",
              "</style>\n",
              "<table border=\"1\" class=\"dataframe\">\n",
              "  <thead>\n",
              "    <tr style=\"text-align: right;\">\n",
              "      <th></th>\n",
              "      <th>faq_header</th>\n",
              "      <th>faq_content</th>\n",
              "      <th>faq_category</th>\n",
              "      <th>date_collected</th>\n",
              "    </tr>\n",
              "  </thead>\n",
              "  <tbody>\n",
              "    <tr>\n",
              "      <th>0</th>\n",
              "      <td>What is a novel coronavirus?</td>\n",
              "      <td>A novel coronavirus is a new coronavirus that ...</td>\n",
              "      <td>Coronavirus Disease 2019 Basics</td>\n",
              "      <td>06/02/20</td>\n",
              "    </tr>\n",
              "    <tr>\n",
              "      <th>1</th>\n",
              "      <td>Why is the disease being called coronavirus di...</td>\n",
              "      <td>On February 11, 2020 the World Health Organiza...</td>\n",
              "      <td>Coronavirus Disease 2019 Basics</td>\n",
              "      <td>06/02/20</td>\n",
              "    </tr>\n",
              "    <tr>\n",
              "      <th>2</th>\n",
              "      <td>Why might someone blame or avoid individuals a...</td>\n",
              "      <td>People in the U.S. may be worried or anxious a...</td>\n",
              "      <td>Coronavirus Disease 2019 Basics</td>\n",
              "      <td>06/02/20</td>\n",
              "    </tr>\n",
              "    <tr>\n",
              "      <th>3</th>\n",
              "      <td>How can people help stop stigma related to COV...</td>\n",
              "      <td>People can fight stigma by providing social su...</td>\n",
              "      <td>Coronavirus Disease 2019 Basics</td>\n",
              "      <td>06/02/20</td>\n",
              "    </tr>\n",
              "    <tr>\n",
              "      <th>4</th>\n",
              "      <td>Why do some state’s COVID-19 case numbers some...</td>\n",
              "      <td>CDC’s overall case numbers are validated throu...</td>\n",
              "      <td>Coronavirus Disease 2019 Basics</td>\n",
              "      <td>06/02/20</td>\n",
              "    </tr>\n",
              "    <tr>\n",
              "      <th>...</th>\n",
              "      <td>...</td>\n",
              "      <td>...</td>\n",
              "      <td>...</td>\n",
              "      <td>...</td>\n",
              "    </tr>\n",
              "    <tr>\n",
              "      <th>120</th>\n",
              "      <td>Is the virus that causes COVID-19 found in fec...</td>\n",
              "      <td>The virus that causes COVID-19 has been found ...</td>\n",
              "      <td>COVID-19 and Water</td>\n",
              "      <td>06/02/20</td>\n",
              "    </tr>\n",
              "    <tr>\n",
              "      <th>121</th>\n",
              "      <td>Can the virus that causes COVID-19 spread thro...</td>\n",
              "      <td>There is no evidence that the virus that cause...</td>\n",
              "      <td>COVID-19 and Water</td>\n",
              "      <td>06/02/20</td>\n",
              "    </tr>\n",
              "    <tr>\n",
              "      <th>122</th>\n",
              "      <td>Can the COVID-19 virus spread through sewerage...</td>\n",
              "      <td>The virus that causes COVID-19 has been found ...</td>\n",
              "      <td>COVID-19 and Water</td>\n",
              "      <td>06/02/20</td>\n",
              "    </tr>\n",
              "    <tr>\n",
              "      <th>123</th>\n",
              "      <td>Should wastewater workers take extra precautio...</td>\n",
              "      <td>Recently, the virus that causes COVID-19 has b...</td>\n",
              "      <td>COVID-19 and Water</td>\n",
              "      <td>06/02/20</td>\n",
              "    </tr>\n",
              "    <tr>\n",
              "      <th>124</th>\n",
              "      <td>If my utility has issued a Boil Water Advisory...</td>\n",
              "      <td>In most cases, it is safe to wash your hands w...</td>\n",
              "      <td>COVID-19 and Water</td>\n",
              "      <td>06/02/20</td>\n",
              "    </tr>\n",
              "  </tbody>\n",
              "</table>\n",
              "<p>125 rows × 4 columns</p>\n",
              "</div>"
            ],
            "text/plain": [
              "                                            faq_header  ... date_collected\n",
              "0                         What is a novel coronavirus?  ...       06/02/20\n",
              "1    Why is the disease being called coronavirus di...  ...       06/02/20\n",
              "2    Why might someone blame or avoid individuals a...  ...       06/02/20\n",
              "3    How can people help stop stigma related to COV...  ...       06/02/20\n",
              "4    Why do some state’s COVID-19 case numbers some...  ...       06/02/20\n",
              "..                                                 ...  ...            ...\n",
              "120  Is the virus that causes COVID-19 found in fec...  ...       06/02/20\n",
              "121  Can the virus that causes COVID-19 spread thro...  ...       06/02/20\n",
              "122  Can the COVID-19 virus spread through sewerage...  ...       06/02/20\n",
              "123  Should wastewater workers take extra precautio...  ...       06/02/20\n",
              "124  If my utility has issued a Boil Water Advisory...  ...       06/02/20\n",
              "\n",
              "[125 rows x 4 columns]"
            ]
          },
          "metadata": {
            "tags": []
          },
          "execution_count": 21
        }
      ]
    },
    {
      "cell_type": "code",
      "metadata": {
        "id": "D0NlpdTvl1np",
        "colab_type": "code",
        "colab": {}
      },
      "source": [
        "df.to_csv('cdc_faqs.csv')"
      ],
      "execution_count": 0,
      "outputs": []
    }
  ]
}