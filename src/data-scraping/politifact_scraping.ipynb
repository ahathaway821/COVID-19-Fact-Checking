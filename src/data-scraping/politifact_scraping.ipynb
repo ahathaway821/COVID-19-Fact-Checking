{
  "nbformat": 4,
  "nbformat_minor": 0,
  "metadata": {
    "colab": {
      "name": "politifact.ipynb",
      "provenance": [],
      "collapsed_sections": [],
      "authorship_tag": "ABX9TyMNEhhpEVWZ8j2auY58xP61",
      "include_colab_link": true
    },
    "kernelspec": {
      "name": "python3",
      "display_name": "Python 3"
    }
  },
  "cells": [
    {
      "cell_type": "markdown",
      "metadata": {
        "id": "view-in-github",
        "colab_type": "text"
      },
      "source": [
        "<a href=\"https://colab.research.google.com/github/ahathaway821/COVID-19-Fact-Checking/blob/master/src/data-scraping/politifact_scraping.ipynb\" target=\"_parent\"><img src=\"https://colab.research.google.com/assets/colab-badge.svg\" alt=\"Open In Colab\"/></a>"
      ]
    },
    {
      "cell_type": "code",
      "metadata": {
        "id": "VxjG3dWWpg25",
        "colab_type": "code",
        "outputId": "31f07319-d2d5-4e64-9da5-3994350e0622",
        "colab": {
          "base_uri": "https://localhost:8080/",
          "height": 102
        }
      },
      "source": [
        "!pip install beautifulsoup4\n",
        "!pip install soupsieve\n",
        "import pandas as pd\n",
        "import requests\n",
        "from bs4 import BeautifulSoup\n",
        "import pandas as pd\n",
        "from urllib.request import Request, urlopen\n",
        "from datetime import date"
      ],
      "execution_count": 2,
      "outputs": [
        {
          "output_type": "stream",
          "text": [
            "Requirement already satisfied: beautifulsoup4 in /usr/local/lib/python3.6/dist-packages (4.6.3)\n",
            "Collecting soupsieve\n",
            "  Downloading https://files.pythonhosted.org/packages/6f/8f/457f4a5390eeae1cc3aeab89deb7724c965be841ffca6cfca9197482e470/soupsieve-2.0.1-py3-none-any.whl\n",
            "Installing collected packages: soupsieve\n",
            "Successfully installed soupsieve-2.0.1\n"
          ],
          "name": "stdout"
        }
      ]
    },
    {
      "cell_type": "code",
      "metadata": {
        "id": "WCtExxuGtRaj",
        "colab_type": "code",
        "outputId": "0e32d479-3b55-4e8f-dcba-431202cad03d",
        "colab": {
          "base_uri": "https://localhost:8080/",
          "height": 419
        }
      },
      "source": [
        "num_pages = 15\n",
        "data = []\n",
        "for i in range(1, num_pages + 1):\n",
        "    url = 'https://www.politifact.com/factchecks/list/?page=' + str(i) + '&category=coronavirus'\n",
        "    req = Request(url , headers={'User-Agent': 'Mozilla/5.0'})\n",
        "    webpage = urlopen(req).read()\n",
        "\n",
        "    soup = BeautifulSoup(webpage, 'html.parser')\n",
        "    facts = soup.find_all('li', attrs={'class':'o-listicle__item'})\n",
        "\n",
        "    for fact in facts:\n",
        "        # print(fact)\n",
        "        who_posted = fact.find('a', attrs={'class':'m-statement__name'}).text.strip('\\n')\n",
        "        when_posted = fact.find('div', attrs={'class':'m-statement__desc'}).text.strip('\\n')\n",
        "        date = when_posted.split(\" \")[2:5]\n",
        "        what_posted = fact.find('div', attrs={'class':'m-statement__quote'}).text.strip('\\n')\n",
        "        rating_div = fact.find('div', attrs={'class':'m-statement__meter'})\n",
        "        rating = rating_div.find('img', attrs={'class':'c-image__thumb'})['alt'].strip('\\n')\n",
        "        link = fact.find('div', attrs={'class':'m-statement__quote'})\n",
        "        article_link = link.find('a')['href'].strip('\\n')\n",
        "        data.append({\n",
        "            'claim': what_posted,\n",
        "            'date': \" \".join(date),\n",
        "            'source': 'Politifact',\n",
        "            'source_label': rating,\n",
        "            'claim_source': who_posted,\n",
        "            'explanation': '',\n",
        "            'fact_check_url': 'https://politifact.com' + str(article_link)\n",
        "        })\n",
        "\n",
        "df = pd.DataFrame(data)\n",
        "df"
      ],
      "execution_count": 5,
      "outputs": [
        {
          "output_type": "execute_result",
          "data": {
            "text/html": [
              "<div>\n",
              "<style scoped>\n",
              "    .dataframe tbody tr th:only-of-type {\n",
              "        vertical-align: middle;\n",
              "    }\n",
              "\n",
              "    .dataframe tbody tr th {\n",
              "        vertical-align: top;\n",
              "    }\n",
              "\n",
              "    .dataframe thead th {\n",
              "        text-align: right;\n",
              "    }\n",
              "</style>\n",
              "<table border=\"1\" class=\"dataframe\">\n",
              "  <thead>\n",
              "    <tr style=\"text-align: right;\">\n",
              "      <th></th>\n",
              "      <th>claim</th>\n",
              "      <th>date</th>\n",
              "      <th>source</th>\n",
              "      <th>source_label</th>\n",
              "      <th>claim_source</th>\n",
              "      <th>explanation</th>\n",
              "      <th>fact_check_url</th>\n",
              "    </tr>\n",
              "  </thead>\n",
              "  <tbody>\n",
              "    <tr>\n",
              "      <th>0</th>\n",
              "      <td>“Research illustrates a clear correlation betw...</td>\n",
              "      <td>May 21, 2020</td>\n",
              "      <td>Politifact</td>\n",
              "      <td>true</td>\n",
              "      <td>Glenn Grothman</td>\n",
              "      <td></td>\n",
              "      <td>https://politifact.com/factchecks/2020/jun/08/...</td>\n",
              "    </tr>\n",
              "    <tr>\n",
              "      <th>1</th>\n",
              "      <td>“She’s just casually carrying a body with 1 ha...</td>\n",
              "      <td>June 3, 2020</td>\n",
              "      <td>Politifact</td>\n",
              "      <td>false</td>\n",
              "      <td>Viral image</td>\n",
              "      <td></td>\n",
              "      <td>https://politifact.com/factchecks/2020/jun/05/...</td>\n",
              "    </tr>\n",
              "    <tr>\n",
              "      <th>2</th>\n",
              "      <td>“You see suicide rates are skyrocketing now…”</td>\n",
              "      <td>May 26, 2020</td>\n",
              "      <td>Politifact</td>\n",
              "      <td>false</td>\n",
              "      <td>Tim Murtaugh</td>\n",
              "      <td></td>\n",
              "      <td>https://politifact.com/factchecks/2020/jun/04/...</td>\n",
              "    </tr>\n",
              "    <tr>\n",
              "      <th>3</th>\n",
              "      <td>“According to the CDC, so far this year, Flori...</td>\n",
              "      <td>May 27, 2020</td>\n",
              "      <td>Politifact</td>\n",
              "      <td>false</td>\n",
              "      <td>Facebook posts</td>\n",
              "      <td></td>\n",
              "      <td>https://politifact.com/factchecks/2020/jun/03/...</td>\n",
              "    </tr>\n",
              "    <tr>\n",
              "      <th>4</th>\n",
              "      <td>Says Nancy Pelosi tried “once again” to includ...</td>\n",
              "      <td>May 13, 2020</td>\n",
              "      <td>Politifact</td>\n",
              "      <td>barely-true</td>\n",
              "      <td>Bloggers</td>\n",
              "      <td></td>\n",
              "      <td>https://politifact.com/factchecks/2020/jun/02/...</td>\n",
              "    </tr>\n",
              "    <tr>\n",
              "      <th>...</th>\n",
              "      <td>...</td>\n",
              "      <td>...</td>\n",
              "      <td>...</td>\n",
              "      <td>...</td>\n",
              "      <td>...</td>\n",
              "      <td>...</td>\n",
              "      <td>...</td>\n",
              "    </tr>\n",
              "    <tr>\n",
              "      <th>437</th>\n",
              "      <td>Says a \"Clorox bottle claimed it could kill (t...</td>\n",
              "      <td>January 28, 2020</td>\n",
              "      <td>Politifact</td>\n",
              "      <td>false</td>\n",
              "      <td>Facebook posts</td>\n",
              "      <td></td>\n",
              "      <td>https://politifact.com/factchecks/2020/jan/30/...</td>\n",
              "    </tr>\n",
              "    <tr>\n",
              "      <th>438</th>\n",
              "      <td>Says the Chinese Communist Party \"will finally...</td>\n",
              "      <td>January 25, 2020</td>\n",
              "      <td>Politifact</td>\n",
              "      <td>false</td>\n",
              "      <td>Bloggers</td>\n",
              "      <td></td>\n",
              "      <td>https://politifact.com/factchecks/2020/jan/28/...</td>\n",
              "    </tr>\n",
              "    <tr>\n",
              "      <th>439</th>\n",
              "      <td>\"CORONAVIRUS: Reports of 10,000 DEAD in Wuhan,...</td>\n",
              "      <td>January 24, 2020</td>\n",
              "      <td>Politifact</td>\n",
              "      <td>pants-fire</td>\n",
              "      <td>Facebook posts</td>\n",
              "      <td></td>\n",
              "      <td>https://politifact.com/factchecks/2020/jan/28/...</td>\n",
              "    </tr>\n",
              "    <tr>\n",
              "      <th>440</th>\n",
              "      <td>Says China \"stole Coronavirus from Canada and ...</td>\n",
              "      <td>January 26, 2020</td>\n",
              "      <td>Politifact</td>\n",
              "      <td>false</td>\n",
              "      <td>Bloggers</td>\n",
              "      <td></td>\n",
              "      <td>https://politifact.com/factchecks/2020/jan/28/...</td>\n",
              "    </tr>\n",
              "    <tr>\n",
              "      <th>441</th>\n",
              "      <td>Says a coronavirus patent expired just as ther...</td>\n",
              "      <td>January 22, 2020</td>\n",
              "      <td>Politifact</td>\n",
              "      <td>pants-fire</td>\n",
              "      <td>Facebook posts</td>\n",
              "      <td></td>\n",
              "      <td>https://politifact.com/factchecks/2020/jan/23/...</td>\n",
              "    </tr>\n",
              "  </tbody>\n",
              "</table>\n",
              "<p>442 rows × 7 columns</p>\n",
              "</div>"
            ],
            "text/plain": [
              "                                                 claim  ...                                     fact_check_url\n",
              "0    “Research illustrates a clear correlation betw...  ...  https://politifact.com/factchecks/2020/jun/08/...\n",
              "1    “She’s just casually carrying a body with 1 ha...  ...  https://politifact.com/factchecks/2020/jun/05/...\n",
              "2        “You see suicide rates are skyrocketing now…”  ...  https://politifact.com/factchecks/2020/jun/04/...\n",
              "3    “According to the CDC, so far this year, Flori...  ...  https://politifact.com/factchecks/2020/jun/03/...\n",
              "4    Says Nancy Pelosi tried “once again” to includ...  ...  https://politifact.com/factchecks/2020/jun/02/...\n",
              "..                                                 ...  ...                                                ...\n",
              "437  Says a \"Clorox bottle claimed it could kill (t...  ...  https://politifact.com/factchecks/2020/jan/30/...\n",
              "438  Says the Chinese Communist Party \"will finally...  ...  https://politifact.com/factchecks/2020/jan/28/...\n",
              "439  \"CORONAVIRUS: Reports of 10,000 DEAD in Wuhan,...  ...  https://politifact.com/factchecks/2020/jan/28/...\n",
              "440  Says China \"stole Coronavirus from Canada and ...  ...  https://politifact.com/factchecks/2020/jan/28/...\n",
              "441  Says a coronavirus patent expired just as ther...  ...  https://politifact.com/factchecks/2020/jan/23/...\n",
              "\n",
              "[442 rows x 7 columns]"
            ]
          },
          "metadata": {
            "tags": []
          },
          "execution_count": 5
        }
      ]
    },
    {
      "cell_type": "code",
      "metadata": {
        "id": "VuKBFDYYxP7B",
        "colab_type": "code",
        "colab": {
          "base_uri": "https://localhost:8080/",
          "height": 51
        },
        "outputId": "ab38f778-246c-4bdf-ec32-1e2b3a124d12"
      },
      "source": [
        "# add label\n",
        "df.source_label.unique()"
      ],
      "execution_count": 6,
      "outputs": [
        {
          "output_type": "execute_result",
          "data": {
            "text/plain": [
              "array(['true', 'false', 'barely-true', 'mostly-true', 'half-true',\n",
              "       'pants-fire'], dtype=object)"
            ]
          },
          "metadata": {
            "tags": []
          },
          "execution_count": 6
        }
      ]
    },
    {
      "cell_type": "code",
      "metadata": {
        "id": "4I5jxsZ5y61-",
        "colab_type": "code",
        "colab": {}
      },
      "source": [
        "df['label'] = df['source_label']"
      ],
      "execution_count": 0,
      "outputs": []
    },
    {
      "cell_type": "code",
      "metadata": {
        "id": "UcgCF_IKy-1H",
        "colab_type": "code",
        "colab": {
          "base_uri": "https://localhost:8080/",
          "height": 204
        },
        "outputId": "fa9ac95a-bb5d-4d9d-8b07-63da4508aab9"
      },
      "source": [
        "df.head()"
      ],
      "execution_count": 8,
      "outputs": [
        {
          "output_type": "execute_result",
          "data": {
            "text/html": [
              "<div>\n",
              "<style scoped>\n",
              "    .dataframe tbody tr th:only-of-type {\n",
              "        vertical-align: middle;\n",
              "    }\n",
              "\n",
              "    .dataframe tbody tr th {\n",
              "        vertical-align: top;\n",
              "    }\n",
              "\n",
              "    .dataframe thead th {\n",
              "        text-align: right;\n",
              "    }\n",
              "</style>\n",
              "<table border=\"1\" class=\"dataframe\">\n",
              "  <thead>\n",
              "    <tr style=\"text-align: right;\">\n",
              "      <th></th>\n",
              "      <th>claim</th>\n",
              "      <th>date</th>\n",
              "      <th>source</th>\n",
              "      <th>source_label</th>\n",
              "      <th>claim_source</th>\n",
              "      <th>explanation</th>\n",
              "      <th>fact_check_url</th>\n",
              "      <th>label</th>\n",
              "    </tr>\n",
              "  </thead>\n",
              "  <tbody>\n",
              "    <tr>\n",
              "      <th>0</th>\n",
              "      <td>“Research illustrates a clear correlation betw...</td>\n",
              "      <td>May 21, 2020</td>\n",
              "      <td>Politifact</td>\n",
              "      <td>true</td>\n",
              "      <td>Glenn Grothman</td>\n",
              "      <td></td>\n",
              "      <td>https://politifact.com/factchecks/2020/jun/08/...</td>\n",
              "      <td>true</td>\n",
              "    </tr>\n",
              "    <tr>\n",
              "      <th>1</th>\n",
              "      <td>“She’s just casually carrying a body with 1 ha...</td>\n",
              "      <td>June 3, 2020</td>\n",
              "      <td>Politifact</td>\n",
              "      <td>false</td>\n",
              "      <td>Viral image</td>\n",
              "      <td></td>\n",
              "      <td>https://politifact.com/factchecks/2020/jun/05/...</td>\n",
              "      <td>false</td>\n",
              "    </tr>\n",
              "    <tr>\n",
              "      <th>2</th>\n",
              "      <td>“You see suicide rates are skyrocketing now…”</td>\n",
              "      <td>May 26, 2020</td>\n",
              "      <td>Politifact</td>\n",
              "      <td>false</td>\n",
              "      <td>Tim Murtaugh</td>\n",
              "      <td></td>\n",
              "      <td>https://politifact.com/factchecks/2020/jun/04/...</td>\n",
              "      <td>false</td>\n",
              "    </tr>\n",
              "    <tr>\n",
              "      <th>3</th>\n",
              "      <td>“According to the CDC, so far this year, Flori...</td>\n",
              "      <td>May 27, 2020</td>\n",
              "      <td>Politifact</td>\n",
              "      <td>false</td>\n",
              "      <td>Facebook posts</td>\n",
              "      <td></td>\n",
              "      <td>https://politifact.com/factchecks/2020/jun/03/...</td>\n",
              "      <td>false</td>\n",
              "    </tr>\n",
              "    <tr>\n",
              "      <th>4</th>\n",
              "      <td>Says Nancy Pelosi tried “once again” to includ...</td>\n",
              "      <td>May 13, 2020</td>\n",
              "      <td>Politifact</td>\n",
              "      <td>barely-true</td>\n",
              "      <td>Bloggers</td>\n",
              "      <td></td>\n",
              "      <td>https://politifact.com/factchecks/2020/jun/02/...</td>\n",
              "      <td>barely-true</td>\n",
              "    </tr>\n",
              "  </tbody>\n",
              "</table>\n",
              "</div>"
            ],
            "text/plain": [
              "                                               claim  ...        label\n",
              "0  “Research illustrates a clear correlation betw...  ...         true\n",
              "1  “She’s just casually carrying a body with 1 ha...  ...        false\n",
              "2      “You see suicide rates are skyrocketing now…”  ...        false\n",
              "3  “According to the CDC, so far this year, Flori...  ...        false\n",
              "4  Says Nancy Pelosi tried “once again” to includ...  ...  barely-true\n",
              "\n",
              "[5 rows x 8 columns]"
            ]
          },
          "metadata": {
            "tags": []
          },
          "execution_count": 8
        }
      ]
    },
    {
      "cell_type": "code",
      "metadata": {
        "id": "i9TwWz0ryt_w",
        "colab_type": "code",
        "colab": {}
      },
      "source": [
        "df.loc[df.label == \"barely-true\", \"label\"] = \"false\""
      ],
      "execution_count": 0,
      "outputs": []
    },
    {
      "cell_type": "code",
      "metadata": {
        "id": "sTlTeZ1Y0_ud",
        "colab_type": "code",
        "colab": {}
      },
      "source": [
        "df.loc[df.label == \"mostly-true\", \"label\"] = \"partly false\"\n",
        "df.loc[df.label == \"half-true\", \"label\"] = \"not enough evidence\""
      ],
      "execution_count": 0,
      "outputs": []
    },
    {
      "cell_type": "code",
      "metadata": {
        "id": "Nj-kXFgk1Doo",
        "colab_type": "code",
        "colab": {}
      },
      "source": [
        "df.loc[df.label == \"pants-fire\", \"label\"] = \"false\""
      ],
      "execution_count": 0,
      "outputs": []
    },
    {
      "cell_type": "code",
      "metadata": {
        "id": "PZSfyWqf05Ez",
        "colab_type": "code",
        "colab": {
          "base_uri": "https://localhost:8080/",
          "height": 51
        },
        "outputId": "32c4ab65-e186-4328-91ff-cd4bfd4c2da5"
      },
      "source": [
        "df.label.unique()"
      ],
      "execution_count": 15,
      "outputs": [
        {
          "output_type": "execute_result",
          "data": {
            "text/plain": [
              "array(['true', 'false', 'partly false', 'not enough evidence'],\n",
              "      dtype=object)"
            ]
          },
          "metadata": {
            "tags": []
          },
          "execution_count": 15
        }
      ]
    },
    {
      "cell_type": "code",
      "metadata": {
        "id": "5SOf8mJi1Uza",
        "colab_type": "code",
        "colab": {}
      },
      "source": [
        "cols = df.columns.tolist()\n",
        "cols = ['claim', 'label', 'source_label', 'source', 'date', 'claim_source', 'explanation', 'fact_check_url']\n",
        "df = df[cols]"
      ],
      "execution_count": 0,
      "outputs": []
    },
    {
      "cell_type": "code",
      "metadata": {
        "id": "0YFZSGpk1wS7",
        "colab_type": "code",
        "colab": {
          "base_uri": "https://localhost:8080/",
          "height": 204
        },
        "outputId": "7b261a47-5639-4d1d-f89b-a11119f7c02a"
      },
      "source": [
        "df.head()"
      ],
      "execution_count": 18,
      "outputs": [
        {
          "output_type": "execute_result",
          "data": {
            "text/html": [
              "<div>\n",
              "<style scoped>\n",
              "    .dataframe tbody tr th:only-of-type {\n",
              "        vertical-align: middle;\n",
              "    }\n",
              "\n",
              "    .dataframe tbody tr th {\n",
              "        vertical-align: top;\n",
              "    }\n",
              "\n",
              "    .dataframe thead th {\n",
              "        text-align: right;\n",
              "    }\n",
              "</style>\n",
              "<table border=\"1\" class=\"dataframe\">\n",
              "  <thead>\n",
              "    <tr style=\"text-align: right;\">\n",
              "      <th></th>\n",
              "      <th>claim</th>\n",
              "      <th>label</th>\n",
              "      <th>source_label</th>\n",
              "      <th>source</th>\n",
              "      <th>date</th>\n",
              "      <th>claim_source</th>\n",
              "      <th>explanation</th>\n",
              "      <th>fact_check_url</th>\n",
              "    </tr>\n",
              "  </thead>\n",
              "  <tbody>\n",
              "    <tr>\n",
              "      <th>0</th>\n",
              "      <td>“Research illustrates a clear correlation betw...</td>\n",
              "      <td>true</td>\n",
              "      <td>true</td>\n",
              "      <td>Politifact</td>\n",
              "      <td>May 21, 2020</td>\n",
              "      <td>Glenn Grothman</td>\n",
              "      <td></td>\n",
              "      <td>https://politifact.com/factchecks/2020/jun/08/...</td>\n",
              "    </tr>\n",
              "    <tr>\n",
              "      <th>1</th>\n",
              "      <td>“She’s just casually carrying a body with 1 ha...</td>\n",
              "      <td>false</td>\n",
              "      <td>false</td>\n",
              "      <td>Politifact</td>\n",
              "      <td>June 3, 2020</td>\n",
              "      <td>Viral image</td>\n",
              "      <td></td>\n",
              "      <td>https://politifact.com/factchecks/2020/jun/05/...</td>\n",
              "    </tr>\n",
              "    <tr>\n",
              "      <th>2</th>\n",
              "      <td>“You see suicide rates are skyrocketing now…”</td>\n",
              "      <td>false</td>\n",
              "      <td>false</td>\n",
              "      <td>Politifact</td>\n",
              "      <td>May 26, 2020</td>\n",
              "      <td>Tim Murtaugh</td>\n",
              "      <td></td>\n",
              "      <td>https://politifact.com/factchecks/2020/jun/04/...</td>\n",
              "    </tr>\n",
              "    <tr>\n",
              "      <th>3</th>\n",
              "      <td>“According to the CDC, so far this year, Flori...</td>\n",
              "      <td>false</td>\n",
              "      <td>false</td>\n",
              "      <td>Politifact</td>\n",
              "      <td>May 27, 2020</td>\n",
              "      <td>Facebook posts</td>\n",
              "      <td></td>\n",
              "      <td>https://politifact.com/factchecks/2020/jun/03/...</td>\n",
              "    </tr>\n",
              "    <tr>\n",
              "      <th>4</th>\n",
              "      <td>Says Nancy Pelosi tried “once again” to includ...</td>\n",
              "      <td>false</td>\n",
              "      <td>barely-true</td>\n",
              "      <td>Politifact</td>\n",
              "      <td>May 13, 2020</td>\n",
              "      <td>Bloggers</td>\n",
              "      <td></td>\n",
              "      <td>https://politifact.com/factchecks/2020/jun/02/...</td>\n",
              "    </tr>\n",
              "  </tbody>\n",
              "</table>\n",
              "</div>"
            ],
            "text/plain": [
              "                                               claim  ...                                     fact_check_url\n",
              "0  “Research illustrates a clear correlation betw...  ...  https://politifact.com/factchecks/2020/jun/08/...\n",
              "1  “She’s just casually carrying a body with 1 ha...  ...  https://politifact.com/factchecks/2020/jun/05/...\n",
              "2      “You see suicide rates are skyrocketing now…”  ...  https://politifact.com/factchecks/2020/jun/04/...\n",
              "3  “According to the CDC, so far this year, Flori...  ...  https://politifact.com/factchecks/2020/jun/03/...\n",
              "4  Says Nancy Pelosi tried “once again” to includ...  ...  https://politifact.com/factchecks/2020/jun/02/...\n",
              "\n",
              "[5 rows x 8 columns]"
            ]
          },
          "metadata": {
            "tags": []
          },
          "execution_count": 18
        }
      ]
    },
    {
      "cell_type": "code",
      "metadata": {
        "id": "b53gE1y126K5",
        "colab_type": "code",
        "colab": {
          "base_uri": "https://localhost:8080/",
          "height": 378
        },
        "outputId": "b769130c-f90a-4b0f-da78-fc0e3d3d05f6"
      },
      "source": [
        "df['label'].value_counts().plot(kind='bar')"
      ],
      "execution_count": 22,
      "outputs": [
        {
          "output_type": "execute_result",
          "data": {
            "text/plain": [
              "<matplotlib.axes._subplots.AxesSubplot at 0x7f3586319470>"
            ]
          },
          "metadata": {
            "tags": []
          },
          "execution_count": 22
        },
        {
          "output_type": "display_data",
          "data": {
            "image/png": "[encoded data removed]",
            "text/plain": [
              "<Figure size 432x288 with 1 Axes>"
            ]
          },
          "metadata": {
            "tags": [],
            "needs_background": "light"
          }
        }
      ]
    },
    {
      "cell_type": "code",
      "metadata": {
        "id": "O3vPwsKmqZ3g",
        "colab_type": "code",
        "colab": {}
      },
      "source": [
        "df.to_csv('cleaned_politifact_data.csv')"
      ],
      "execution_count": 0,
      "outputs": []
    }
  ]
}