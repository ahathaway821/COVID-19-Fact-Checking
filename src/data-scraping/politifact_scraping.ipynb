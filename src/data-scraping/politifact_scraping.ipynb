{
  "nbformat": 4,
  "nbformat_minor": 0,
  "metadata": {
    "colab": {
      "name": "politifact.ipynb",
      "provenance": [],
      "authorship_tag": "ABX9TyOINkRRWTubtE/36BgL9APN",
      "include_colab_link": true
    },
    "kernelspec": {
      "name": "python3",
      "display_name": "Python 3"
    }
  },
  "cells": [
    {
      "cell_type": "markdown",
      "metadata": {
        "id": "view-in-github",
        "colab_type": "text"
      },
      "source": [
        "<a href=\"https://colab.research.google.com/github/ahathaway821/COVID-19-Fact-Checking/blob/master/data/politifact.ipynb\" target=\"_parent\"><img src=\"https://colab.research.google.com/assets/colab-badge.svg\" alt=\"Open In Colab\"/></a>"
      ]
    },
    {
      "cell_type": "code",
      "metadata": {
        "id": "VxjG3dWWpg25",
        "colab_type": "code",
        "colab": {
          "base_uri": "https://localhost:8080/",
          "height": 102
        },
        "outputId": "09bcb9be-1064-41fe-82c3-b4f93129baf8"
      },
      "source": [
        "!pip install beautifulsoup4\n",
        "!pip install soupsieve\n",
        "import pandas as pd\n",
        "import requests\n",
        "from bs4 import BeautifulSoup\n",
        "import pandas as pd\n",
        "from urllib.request import Request, urlopen\n",
        "from datetime import date"
      ],
      "execution_count": 1,
      "outputs": [
        {
          "output_type": "stream",
          "text": [
            "Requirement already satisfied: beautifulsoup4 in /usr/local/lib/python3.6/dist-packages (4.6.3)\n",
            "Collecting soupsieve\n",
            "  Downloading https://files.pythonhosted.org/packages/6f/8f/457f4a5390eeae1cc3aeab89deb7724c965be841ffca6cfca9197482e470/soupsieve-2.0.1-py3-none-any.whl\n",
            "Installing collected packages: soupsieve\n",
            "Successfully installed soupsieve-2.0.1\n"
          ],
          "name": "stdout"
        }
      ]
    },
    {
      "cell_type": "code",
      "metadata": {
        "id": "WCtExxuGtRaj",
        "colab_type": "code",
        "colab": {
          "base_uri": "https://localhost:8080/",
          "height": 419
        },
        "outputId": "20fab85e-6f94-4e78-8efd-44db636131db"
      },
      "source": [
        "num_pages = 15\n",
        "data = []\n",
        "for i in range(1, num_pages + 1):\n",
        "    url = 'https://www.politifact.com/factchecks/list/?page=' + str(i) + '&category=coronavirus'\n",
        "    req = Request(url , headers={'User-Agent': 'Mozilla/5.0'})\n",
        "    webpage = urlopen(req).read()\n",
        "\n",
        "    soup = BeautifulSoup(webpage, 'html.parser')\n",
        "    facts = soup.find_all('li', attrs={'class':'o-listicle__item'})\n",
        "\n",
        "    for fact in facts:\n",
        "        who_posted = fact.find('a', attrs={'class':'m-statement__name'}).text.strip('\\n')\n",
        "        when_posted = fact.find('div', attrs={'class':'m-statement__desc'}).text.strip('\\n')\n",
        "        date = when_posted.split(\" \")[2:5]\n",
        "        what_posted = fact.find('div', attrs={'class':'m-statement__quote'}).text.strip('\\n')\n",
        "        rating_div = fact.find('div', attrs={'class':'m-statement__meter'})\n",
        "        rating = rating_div.find('img', attrs={'class':'c-image__thumb'})['alt'].strip('\\n')\n",
        "        data.append({\n",
        "            'claim': what_posted,\n",
        "            'posted': \" \".join(date),\n",
        "            'source': who_posted,\n",
        "            'rating': rating\n",
        "        })\n",
        "\n",
        "df = pd.DataFrame(data)\n",
        "df"
      ],
      "execution_count": 34,
      "outputs": [
        {
          "output_type": "execute_result",
          "data": {
            "text/html": [
              "<div>\n",
              "<style scoped>\n",
              "    .dataframe tbody tr th:only-of-type {\n",
              "        vertical-align: middle;\n",
              "    }\n",
              "\n",
              "    .dataframe tbody tr th {\n",
              "        vertical-align: top;\n",
              "    }\n",
              "\n",
              "    .dataframe thead th {\n",
              "        text-align: right;\n",
              "    }\n",
              "</style>\n",
              "<table border=\"1\" class=\"dataframe\">\n",
              "  <thead>\n",
              "    <tr style=\"text-align: right;\">\n",
              "      <th></th>\n",
              "      <th>claim</th>\n",
              "      <th>posted</th>\n",
              "      <th>source</th>\n",
              "      <th>rating</th>\n",
              "    </tr>\n",
              "  </thead>\n",
              "  <tbody>\n",
              "    <tr>\n",
              "      <th>0</th>\n",
              "      <td>“She’s just casually carrying a body with 1 ha...</td>\n",
              "      <td>June 3, 2020</td>\n",
              "      <td>Viral image</td>\n",
              "      <td>false</td>\n",
              "    </tr>\n",
              "    <tr>\n",
              "      <th>1</th>\n",
              "      <td>“You see suicide rates are skyrocketing now…”</td>\n",
              "      <td>May 26, 2020</td>\n",
              "      <td>Tim Murtaugh</td>\n",
              "      <td>false</td>\n",
              "    </tr>\n",
              "    <tr>\n",
              "      <th>2</th>\n",
              "      <td>“According to the CDC, so far this year, Flori...</td>\n",
              "      <td>May 27, 2020</td>\n",
              "      <td>Facebook posts</td>\n",
              "      <td>false</td>\n",
              "    </tr>\n",
              "    <tr>\n",
              "      <th>3</th>\n",
              "      <td>Says Nancy Pelosi tried “once again” to includ...</td>\n",
              "      <td>May 13, 2020</td>\n",
              "      <td>Bloggers</td>\n",
              "      <td>barely-true</td>\n",
              "    </tr>\n",
              "    <tr>\n",
              "      <th>4</th>\n",
              "      <td>“The new Dane County lockdown policy… (has) ef...</td>\n",
              "      <td>May 19, 2020</td>\n",
              "      <td>Scott Manley</td>\n",
              "      <td>barely-true</td>\n",
              "    </tr>\n",
              "    <tr>\n",
              "      <th>...</th>\n",
              "      <td>...</td>\n",
              "      <td>...</td>\n",
              "      <td>...</td>\n",
              "      <td>...</td>\n",
              "    </tr>\n",
              "    <tr>\n",
              "      <th>436</th>\n",
              "      <td>Says a \"Clorox bottle claimed it could kill (t...</td>\n",
              "      <td>January 28, 2020</td>\n",
              "      <td>Facebook posts</td>\n",
              "      <td>false</td>\n",
              "    </tr>\n",
              "    <tr>\n",
              "      <th>437</th>\n",
              "      <td>Says the Chinese Communist Party \"will finally...</td>\n",
              "      <td>January 25, 2020</td>\n",
              "      <td>Bloggers</td>\n",
              "      <td>false</td>\n",
              "    </tr>\n",
              "    <tr>\n",
              "      <th>438</th>\n",
              "      <td>\"CORONAVIRUS: Reports of 10,000 DEAD in Wuhan,...</td>\n",
              "      <td>January 24, 2020</td>\n",
              "      <td>Facebook posts</td>\n",
              "      <td>pants-fire</td>\n",
              "    </tr>\n",
              "    <tr>\n",
              "      <th>439</th>\n",
              "      <td>Says China \"stole Coronavirus from Canada and ...</td>\n",
              "      <td>January 26, 2020</td>\n",
              "      <td>Bloggers</td>\n",
              "      <td>false</td>\n",
              "    </tr>\n",
              "    <tr>\n",
              "      <th>440</th>\n",
              "      <td>Says a coronavirus patent expired just as ther...</td>\n",
              "      <td>January 22, 2020</td>\n",
              "      <td>Facebook posts</td>\n",
              "      <td>pants-fire</td>\n",
              "    </tr>\n",
              "  </tbody>\n",
              "</table>\n",
              "<p>441 rows × 4 columns</p>\n",
              "</div>"
            ],
            "text/plain": [
              "                                                 claim  ...       rating\n",
              "0    “She’s just casually carrying a body with 1 ha...  ...        false\n",
              "1        “You see suicide rates are skyrocketing now…”  ...        false\n",
              "2    “According to the CDC, so far this year, Flori...  ...        false\n",
              "3    Says Nancy Pelosi tried “once again” to includ...  ...  barely-true\n",
              "4    “The new Dane County lockdown policy… (has) ef...  ...  barely-true\n",
              "..                                                 ...  ...          ...\n",
              "436  Says a \"Clorox bottle claimed it could kill (t...  ...        false\n",
              "437  Says the Chinese Communist Party \"will finally...  ...        false\n",
              "438  \"CORONAVIRUS: Reports of 10,000 DEAD in Wuhan,...  ...   pants-fire\n",
              "439  Says China \"stole Coronavirus from Canada and ...  ...        false\n",
              "440  Says a coronavirus patent expired just as ther...  ...   pants-fire\n",
              "\n",
              "[441 rows x 4 columns]"
            ]
          },
          "metadata": {
            "tags": []
          },
          "execution_count": 34
        }
      ]
    },
    {
      "cell_type": "code",
      "metadata": {
        "id": "O3vPwsKmqZ3g",
        "colab_type": "code",
        "colab": {}
      },
      "source": [
        "df.to_csv('politifact_data.csv')"
      ],
      "execution_count": 0,
      "outputs": []
    },
    {
      "cell_type": "code",
      "metadata": {
        "id": "jog7xT8RuPNn",
        "colab_type": "code",
        "colab": {}
      },
      "source": [
        ""
      ],
      "execution_count": 0,
      "outputs": []
    }
  ]
}